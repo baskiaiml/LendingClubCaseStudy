{
 "cells": [
  {
   "cell_type": "markdown",
   "id": "3ea4cf7d",
   "metadata": {},
   "source": [
    "<h2 style = \"text-align:center\">Lending Club Case Study</h2>\n",
    "\n",
    "<h4 style = \"text-align:left\">Introdution</h4>\n",
    "            The important objective of this data analysis is to measure the degree of risk that the borrower presents to the lender. It includes, based on the estimated probability assigning measurable numbers to the default of the borrower. In this case study we have such dataset,and our objective is to determine the potential borrowers to determine their ability to meet debt obligations. We have used python 3 along with numpy and pandas libraries to analyze the dataset."
   ]
  },
  {
   "cell_type": "markdown",
   "id": "fe4cb8d3",
   "metadata": {},
   "source": [
    "<h4 style = \"color : Sky black\">Preparatory steps</h4>\n",
    "The first step in data analysis is to remove the data errors that comes from the source. There are various types of data errors such as formatting errors, missing values, spelling inconsistencies and duplicate rows. Let's clean this errors one by one both rows and column wise."
   ]
  },
  {
   "cell_type": "markdown",
   "id": "40dfb5c6",
   "metadata": {},
   "source": [
    "<h3 style = \"text-align:center\">Data Cleaning</h3>\n",
    "<p> First Import required Python libraries.</p>"
   ]
  },
  {
   "cell_type": "code",
   "execution_count": 2,
   "id": "18d85f08",
   "metadata": {},
   "outputs": [],
   "source": [
    "import numpy as np\n",
    "import pandas as pd"
   ]
  },
  {
   "cell_type": "markdown",
   "id": "2de65f0d",
   "metadata": {},
   "source": [
    "Load the loan.csv file into <b>DataFrame</b>\n",
    "    <li>The data might contain too many commas, so I have used <b>error_bad_lines=False</b> to remove them.</li>\n",
    "    <li>The data might contain encoding issues or mixed data type issues, so I have used <b>dtype='unicode'</b> to correct them.</li>\n",
    "    <li>The column header starts at index zero, so given <b>header=0</b>.</li>"
   ]
  },
  {
   "cell_type": "code",
   "execution_count": 3,
   "id": "9bbeec44",
   "metadata": {},
   "outputs": [],
   "source": [
    "df = pd.read_csv(\"loan.csv\", error_bad_lines=False, dtype='unicode', header=0)"
   ]
  },
  {
   "cell_type": "code",
   "execution_count": 4,
   "id": "17dd7fcc",
   "metadata": {},
   "outputs": [
    {
     "data": {
      "text/html": [
       "<div>\n",
       "<style scoped>\n",
       "    .dataframe tbody tr th:only-of-type {\n",
       "        vertical-align: middle;\n",
       "    }\n",
       "\n",
       "    .dataframe tbody tr th {\n",
       "        vertical-align: top;\n",
       "    }\n",
       "\n",
       "    .dataframe thead th {\n",
       "        text-align: right;\n",
       "    }\n",
       "</style>\n",
       "<table border=\"1\" class=\"dataframe\">\n",
       "  <thead>\n",
       "    <tr style=\"text-align: right;\">\n",
       "      <th></th>\n",
       "      <th>id</th>\n",
       "      <th>member_id</th>\n",
       "      <th>loan_amnt</th>\n",
       "      <th>funded_amnt</th>\n",
       "      <th>funded_amnt_inv</th>\n",
       "      <th>term</th>\n",
       "      <th>int_rate</th>\n",
       "      <th>installment</th>\n",
       "      <th>grade</th>\n",
       "      <th>sub_grade</th>\n",
       "      <th>...</th>\n",
       "      <th>num_tl_90g_dpd_24m</th>\n",
       "      <th>num_tl_op_past_12m</th>\n",
       "      <th>pct_tl_nvr_dlq</th>\n",
       "      <th>percent_bc_gt_75</th>\n",
       "      <th>pub_rec_bankruptcies</th>\n",
       "      <th>tax_liens</th>\n",
       "      <th>tot_hi_cred_lim</th>\n",
       "      <th>total_bal_ex_mort</th>\n",
       "      <th>total_bc_limit</th>\n",
       "      <th>total_il_high_credit_limit</th>\n",
       "    </tr>\n",
       "  </thead>\n",
       "  <tbody>\n",
       "    <tr>\n",
       "      <th>0</th>\n",
       "      <td>1077501</td>\n",
       "      <td>1296599</td>\n",
       "      <td>5000</td>\n",
       "      <td>5000</td>\n",
       "      <td>4975</td>\n",
       "      <td>36 months</td>\n",
       "      <td>10.65%</td>\n",
       "      <td>162.87</td>\n",
       "      <td>B</td>\n",
       "      <td>B2</td>\n",
       "      <td>...</td>\n",
       "      <td>NaN</td>\n",
       "      <td>NaN</td>\n",
       "      <td>NaN</td>\n",
       "      <td>NaN</td>\n",
       "      <td>0</td>\n",
       "      <td>0</td>\n",
       "      <td>NaN</td>\n",
       "      <td>NaN</td>\n",
       "      <td>NaN</td>\n",
       "      <td>NaN</td>\n",
       "    </tr>\n",
       "    <tr>\n",
       "      <th>1</th>\n",
       "      <td>1077430</td>\n",
       "      <td>1314167</td>\n",
       "      <td>2500</td>\n",
       "      <td>2500</td>\n",
       "      <td>2500</td>\n",
       "      <td>60 months</td>\n",
       "      <td>15.27%</td>\n",
       "      <td>59.83</td>\n",
       "      <td>C</td>\n",
       "      <td>C4</td>\n",
       "      <td>...</td>\n",
       "      <td>NaN</td>\n",
       "      <td>NaN</td>\n",
       "      <td>NaN</td>\n",
       "      <td>NaN</td>\n",
       "      <td>0</td>\n",
       "      <td>0</td>\n",
       "      <td>NaN</td>\n",
       "      <td>NaN</td>\n",
       "      <td>NaN</td>\n",
       "      <td>NaN</td>\n",
       "    </tr>\n",
       "    <tr>\n",
       "      <th>2</th>\n",
       "      <td>1077175</td>\n",
       "      <td>1313524</td>\n",
       "      <td>2400</td>\n",
       "      <td>2400</td>\n",
       "      <td>2400</td>\n",
       "      <td>36 months</td>\n",
       "      <td>15.96%</td>\n",
       "      <td>84.33</td>\n",
       "      <td>C</td>\n",
       "      <td>C5</td>\n",
       "      <td>...</td>\n",
       "      <td>NaN</td>\n",
       "      <td>NaN</td>\n",
       "      <td>NaN</td>\n",
       "      <td>NaN</td>\n",
       "      <td>0</td>\n",
       "      <td>0</td>\n",
       "      <td>NaN</td>\n",
       "      <td>NaN</td>\n",
       "      <td>NaN</td>\n",
       "      <td>NaN</td>\n",
       "    </tr>\n",
       "    <tr>\n",
       "      <th>3</th>\n",
       "      <td>1076863</td>\n",
       "      <td>1277178</td>\n",
       "      <td>10000</td>\n",
       "      <td>10000</td>\n",
       "      <td>10000</td>\n",
       "      <td>36 months</td>\n",
       "      <td>13.49%</td>\n",
       "      <td>339.31</td>\n",
       "      <td>C</td>\n",
       "      <td>C1</td>\n",
       "      <td>...</td>\n",
       "      <td>NaN</td>\n",
       "      <td>NaN</td>\n",
       "      <td>NaN</td>\n",
       "      <td>NaN</td>\n",
       "      <td>0</td>\n",
       "      <td>0</td>\n",
       "      <td>NaN</td>\n",
       "      <td>NaN</td>\n",
       "      <td>NaN</td>\n",
       "      <td>NaN</td>\n",
       "    </tr>\n",
       "    <tr>\n",
       "      <th>4</th>\n",
       "      <td>1075358</td>\n",
       "      <td>1311748</td>\n",
       "      <td>3000</td>\n",
       "      <td>3000</td>\n",
       "      <td>3000</td>\n",
       "      <td>60 months</td>\n",
       "      <td>12.69%</td>\n",
       "      <td>67.79</td>\n",
       "      <td>B</td>\n",
       "      <td>B5</td>\n",
       "      <td>...</td>\n",
       "      <td>NaN</td>\n",
       "      <td>NaN</td>\n",
       "      <td>NaN</td>\n",
       "      <td>NaN</td>\n",
       "      <td>0</td>\n",
       "      <td>0</td>\n",
       "      <td>NaN</td>\n",
       "      <td>NaN</td>\n",
       "      <td>NaN</td>\n",
       "      <td>NaN</td>\n",
       "    </tr>\n",
       "  </tbody>\n",
       "</table>\n",
       "<p>5 rows × 111 columns</p>\n",
       "</div>"
      ],
      "text/plain": [
       "        id member_id loan_amnt funded_amnt funded_amnt_inv        term  \\\n",
       "0  1077501   1296599      5000        5000            4975   36 months   \n",
       "1  1077430   1314167      2500        2500            2500   60 months   \n",
       "2  1077175   1313524      2400        2400            2400   36 months   \n",
       "3  1076863   1277178     10000       10000           10000   36 months   \n",
       "4  1075358   1311748      3000        3000            3000   60 months   \n",
       "\n",
       "  int_rate installment grade sub_grade  ... num_tl_90g_dpd_24m  \\\n",
       "0   10.65%      162.87     B        B2  ...                NaN   \n",
       "1   15.27%       59.83     C        C4  ...                NaN   \n",
       "2   15.96%       84.33     C        C5  ...                NaN   \n",
       "3   13.49%      339.31     C        C1  ...                NaN   \n",
       "4   12.69%       67.79     B        B5  ...                NaN   \n",
       "\n",
       "  num_tl_op_past_12m pct_tl_nvr_dlq percent_bc_gt_75 pub_rec_bankruptcies  \\\n",
       "0                NaN            NaN              NaN                    0   \n",
       "1                NaN            NaN              NaN                    0   \n",
       "2                NaN            NaN              NaN                    0   \n",
       "3                NaN            NaN              NaN                    0   \n",
       "4                NaN            NaN              NaN                    0   \n",
       "\n",
       "  tax_liens tot_hi_cred_lim total_bal_ex_mort total_bc_limit  \\\n",
       "0         0             NaN               NaN            NaN   \n",
       "1         0             NaN               NaN            NaN   \n",
       "2         0             NaN               NaN            NaN   \n",
       "3         0             NaN               NaN            NaN   \n",
       "4         0             NaN               NaN            NaN   \n",
       "\n",
       "  total_il_high_credit_limit  \n",
       "0                        NaN  \n",
       "1                        NaN  \n",
       "2                        NaN  \n",
       "3                        NaN  \n",
       "4                        NaN  \n",
       "\n",
       "[5 rows x 111 columns]"
      ]
     },
     "execution_count": 4,
     "metadata": {},
     "output_type": "execute_result"
    }
   ],
   "source": [
    "df.head()"
   ]
  },
  {
   "cell_type": "markdown",
   "id": "49dc487a",
   "metadata": {},
   "source": [
    "<h4>Delete columns that contain single value:</h4>\n",
    "<p>There are 111 columns in the data, let's remove invalid columns which doesn't add any value for our analysis. Invalid column means the information could be same across all rows or all rows may contain NaN.\n",
    "\n",
    "Print the count of unique values in each column to check if any single value column present.</p>"
   ]
  },
  {
   "cell_type": "code",
   "execution_count": 5,
   "id": "0697c533",
   "metadata": {},
   "outputs": [
    {
     "name": "stdout",
     "output_type": "stream",
     "text": [
      "id                            39717\n",
      "member_id                     39717\n",
      "loan_amnt                       885\n",
      "funded_amnt                    1041\n",
      "funded_amnt_inv                8205\n",
      "                              ...  \n",
      "tax_liens                         1\n",
      "tot_hi_cred_lim                   0\n",
      "total_bal_ex_mort                 0\n",
      "total_bc_limit                    0\n",
      "total_il_high_credit_limit        0\n",
      "Length: 111, dtype: int64\n"
     ]
    }
   ],
   "source": [
    "print(df.nunique())"
   ]
  },
  {
   "cell_type": "markdown",
   "id": "31c9dd09",
   "metadata": {},
   "source": [
    "<p>From the above result, it seems there are few single value or no value columns present. Let's count the number of single value and no value or NaN columns.</p>"
   ]
  },
  {
   "cell_type": "code",
   "execution_count": 6,
   "id": "5944c4de",
   "metadata": {},
   "outputs": [
    {
     "name": "stdout",
     "output_type": "stream",
     "text": [
      "Single Value columns Count: 9\n",
      "Zero value columns count: 54\n"
     ]
    }
   ],
   "source": [
    "single_val_col = [df.columns[i] for i,v in enumerate(df.nunique()) if v == 1]\n",
    "print(\"Single Value columns Count:\",len(single_val_col))\n",
    "\n",
    "zero_val_col = [df.columns[i] for i,v in enumerate(df.nunique()) if v == 0]\n",
    "print(\"Zero value columns count:\", len(zero_val_col))"
   ]
  },
  {
   "cell_type": "markdown",
   "id": "75b4ffc0",
   "metadata": {},
   "source": [
    "There are nine columns contain single value lets remove those first."
   ]
  },
  {
   "cell_type": "code",
   "execution_count": 7,
   "id": "3b34b24e",
   "metadata": {},
   "outputs": [
    {
     "data": {
      "text/plain": [
       "(39717, 102)"
      ]
     },
     "execution_count": 7,
     "metadata": {},
     "output_type": "execute_result"
    }
   ],
   "source": [
    "df = df.drop(single_val_col, axis=1)\n",
    "df.shape"
   ]
  },
  {
   "cell_type": "markdown",
   "id": "b0b78e7e",
   "metadata": {},
   "source": [
    "There are 54 columns contain NaN value lets remove those also."
   ]
  },
  {
   "cell_type": "code",
   "execution_count": 8,
   "id": "0ee15733",
   "metadata": {},
   "outputs": [
    {
     "data": {
      "text/plain": [
       "(39717, 48)"
      ]
     },
     "execution_count": 8,
     "metadata": {},
     "output_type": "execute_result"
    }
   ],
   "source": [
    "df = df.drop(zero_val_col, axis=1)\n",
    "df.shape"
   ]
  },
  {
   "cell_type": "markdown",
   "id": "07288275",
   "metadata": {},
   "source": [
    "Now we have only 48 columns left for further analysis."
   ]
  },
  {
   "cell_type": "code",
   "execution_count": 9,
   "id": "50380d86",
   "metadata": {},
   "outputs": [
    {
     "data": {
      "text/html": [
       "<div>\n",
       "<style scoped>\n",
       "    .dataframe tbody tr th:only-of-type {\n",
       "        vertical-align: middle;\n",
       "    }\n",
       "\n",
       "    .dataframe tbody tr th {\n",
       "        vertical-align: top;\n",
       "    }\n",
       "\n",
       "    .dataframe thead th {\n",
       "        text-align: right;\n",
       "    }\n",
       "</style>\n",
       "<table border=\"1\" class=\"dataframe\">\n",
       "  <thead>\n",
       "    <tr style=\"text-align: right;\">\n",
       "      <th></th>\n",
       "      <th>id</th>\n",
       "      <th>member_id</th>\n",
       "      <th>loan_amnt</th>\n",
       "      <th>funded_amnt</th>\n",
       "      <th>funded_amnt_inv</th>\n",
       "      <th>term</th>\n",
       "      <th>int_rate</th>\n",
       "      <th>installment</th>\n",
       "      <th>grade</th>\n",
       "      <th>sub_grade</th>\n",
       "      <th>emp_title</th>\n",
       "      <th>emp_length</th>\n",
       "      <th>home_ownership</th>\n",
       "      <th>annual_inc</th>\n",
       "      <th>verification_status</th>\n",
       "      <th>issue_d</th>\n",
       "      <th>loan_status</th>\n",
       "      <th>url</th>\n",
       "      <th>desc</th>\n",
       "      <th>purpose</th>\n",
       "      <th>title</th>\n",
       "      <th>zip_code</th>\n",
       "      <th>addr_state</th>\n",
       "      <th>dti</th>\n",
       "      <th>delinq_2yrs</th>\n",
       "      <th>earliest_cr_line</th>\n",
       "      <th>inq_last_6mths</th>\n",
       "      <th>mths_since_last_delinq</th>\n",
       "      <th>mths_since_last_record</th>\n",
       "      <th>open_acc</th>\n",
       "      <th>pub_rec</th>\n",
       "      <th>revol_bal</th>\n",
       "      <th>revol_util</th>\n",
       "      <th>total_acc</th>\n",
       "      <th>out_prncp</th>\n",
       "      <th>out_prncp_inv</th>\n",
       "      <th>total_pymnt</th>\n",
       "      <th>total_pymnt_inv</th>\n",
       "      <th>total_rec_prncp</th>\n",
       "      <th>total_rec_int</th>\n",
       "      <th>total_rec_late_fee</th>\n",
       "      <th>recoveries</th>\n",
       "      <th>collection_recovery_fee</th>\n",
       "      <th>last_pymnt_d</th>\n",
       "      <th>last_pymnt_amnt</th>\n",
       "      <th>next_pymnt_d</th>\n",
       "      <th>last_credit_pull_d</th>\n",
       "      <th>pub_rec_bankruptcies</th>\n",
       "    </tr>\n",
       "  </thead>\n",
       "  <tbody>\n",
       "    <tr>\n",
       "      <th>0</th>\n",
       "      <td>1077501</td>\n",
       "      <td>1296599</td>\n",
       "      <td>5000</td>\n",
       "      <td>5000</td>\n",
       "      <td>4975</td>\n",
       "      <td>36 months</td>\n",
       "      <td>10.65%</td>\n",
       "      <td>162.87</td>\n",
       "      <td>B</td>\n",
       "      <td>B2</td>\n",
       "      <td>NaN</td>\n",
       "      <td>10+ years</td>\n",
       "      <td>RENT</td>\n",
       "      <td>24000</td>\n",
       "      <td>Verified</td>\n",
       "      <td>Dec-11</td>\n",
       "      <td>Fully Paid</td>\n",
       "      <td>https://lendingclub.com/browse/loanDetail.acti...</td>\n",
       "      <td>Borrower added on 12/22/11 &gt; I need to upgra...</td>\n",
       "      <td>credit_card</td>\n",
       "      <td>Computer</td>\n",
       "      <td>860xx</td>\n",
       "      <td>AZ</td>\n",
       "      <td>27.65</td>\n",
       "      <td>0</td>\n",
       "      <td>Jan-85</td>\n",
       "      <td>1</td>\n",
       "      <td>NaN</td>\n",
       "      <td>NaN</td>\n",
       "      <td>3</td>\n",
       "      <td>0</td>\n",
       "      <td>13648</td>\n",
       "      <td>83.70%</td>\n",
       "      <td>9</td>\n",
       "      <td>0</td>\n",
       "      <td>0</td>\n",
       "      <td>5863.155187</td>\n",
       "      <td>5833.84</td>\n",
       "      <td>5000</td>\n",
       "      <td>863.16</td>\n",
       "      <td>0</td>\n",
       "      <td>0</td>\n",
       "      <td>0</td>\n",
       "      <td>Jan-15</td>\n",
       "      <td>171.62</td>\n",
       "      <td>NaN</td>\n",
       "      <td>May-16</td>\n",
       "      <td>0</td>\n",
       "    </tr>\n",
       "    <tr>\n",
       "      <th>1</th>\n",
       "      <td>1077430</td>\n",
       "      <td>1314167</td>\n",
       "      <td>2500</td>\n",
       "      <td>2500</td>\n",
       "      <td>2500</td>\n",
       "      <td>60 months</td>\n",
       "      <td>15.27%</td>\n",
       "      <td>59.83</td>\n",
       "      <td>C</td>\n",
       "      <td>C4</td>\n",
       "      <td>Ryder</td>\n",
       "      <td>&lt; 1 year</td>\n",
       "      <td>RENT</td>\n",
       "      <td>30000</td>\n",
       "      <td>Source Verified</td>\n",
       "      <td>Dec-11</td>\n",
       "      <td>Charged Off</td>\n",
       "      <td>https://lendingclub.com/browse/loanDetail.acti...</td>\n",
       "      <td>Borrower added on 12/22/11 &gt; I plan to use t...</td>\n",
       "      <td>car</td>\n",
       "      <td>bike</td>\n",
       "      <td>309xx</td>\n",
       "      <td>GA</td>\n",
       "      <td>1</td>\n",
       "      <td>0</td>\n",
       "      <td>Apr-99</td>\n",
       "      <td>5</td>\n",
       "      <td>NaN</td>\n",
       "      <td>NaN</td>\n",
       "      <td>3</td>\n",
       "      <td>0</td>\n",
       "      <td>1687</td>\n",
       "      <td>9.40%</td>\n",
       "      <td>4</td>\n",
       "      <td>0</td>\n",
       "      <td>0</td>\n",
       "      <td>1008.71</td>\n",
       "      <td>1008.71</td>\n",
       "      <td>456.46</td>\n",
       "      <td>435.17</td>\n",
       "      <td>0</td>\n",
       "      <td>117.08</td>\n",
       "      <td>1.11</td>\n",
       "      <td>Apr-13</td>\n",
       "      <td>119.66</td>\n",
       "      <td>NaN</td>\n",
       "      <td>Sep-13</td>\n",
       "      <td>0</td>\n",
       "    </tr>\n",
       "    <tr>\n",
       "      <th>2</th>\n",
       "      <td>1077175</td>\n",
       "      <td>1313524</td>\n",
       "      <td>2400</td>\n",
       "      <td>2400</td>\n",
       "      <td>2400</td>\n",
       "      <td>36 months</td>\n",
       "      <td>15.96%</td>\n",
       "      <td>84.33</td>\n",
       "      <td>C</td>\n",
       "      <td>C5</td>\n",
       "      <td>NaN</td>\n",
       "      <td>10+ years</td>\n",
       "      <td>RENT</td>\n",
       "      <td>12252</td>\n",
       "      <td>Not Verified</td>\n",
       "      <td>Dec-11</td>\n",
       "      <td>Fully Paid</td>\n",
       "      <td>https://lendingclub.com/browse/loanDetail.acti...</td>\n",
       "      <td>NaN</td>\n",
       "      <td>small_business</td>\n",
       "      <td>real estate business</td>\n",
       "      <td>606xx</td>\n",
       "      <td>IL</td>\n",
       "      <td>8.72</td>\n",
       "      <td>0</td>\n",
       "      <td>Nov-01</td>\n",
       "      <td>2</td>\n",
       "      <td>NaN</td>\n",
       "      <td>NaN</td>\n",
       "      <td>2</td>\n",
       "      <td>0</td>\n",
       "      <td>2956</td>\n",
       "      <td>98.50%</td>\n",
       "      <td>10</td>\n",
       "      <td>0</td>\n",
       "      <td>0</td>\n",
       "      <td>3005.666844</td>\n",
       "      <td>3005.67</td>\n",
       "      <td>2400</td>\n",
       "      <td>605.67</td>\n",
       "      <td>0</td>\n",
       "      <td>0</td>\n",
       "      <td>0</td>\n",
       "      <td>Jun-14</td>\n",
       "      <td>649.91</td>\n",
       "      <td>NaN</td>\n",
       "      <td>May-16</td>\n",
       "      <td>0</td>\n",
       "    </tr>\n",
       "  </tbody>\n",
       "</table>\n",
       "</div>"
      ],
      "text/plain": [
       "        id member_id loan_amnt funded_amnt funded_amnt_inv        term  \\\n",
       "0  1077501   1296599      5000        5000            4975   36 months   \n",
       "1  1077430   1314167      2500        2500            2500   60 months   \n",
       "2  1077175   1313524      2400        2400            2400   36 months   \n",
       "\n",
       "  int_rate installment grade sub_grade emp_title emp_length home_ownership  \\\n",
       "0   10.65%      162.87     B        B2       NaN  10+ years           RENT   \n",
       "1   15.27%       59.83     C        C4     Ryder   < 1 year           RENT   \n",
       "2   15.96%       84.33     C        C5       NaN  10+ years           RENT   \n",
       "\n",
       "  annual_inc verification_status issue_d  loan_status  \\\n",
       "0      24000            Verified  Dec-11   Fully Paid   \n",
       "1      30000     Source Verified  Dec-11  Charged Off   \n",
       "2      12252        Not Verified  Dec-11   Fully Paid   \n",
       "\n",
       "                                                 url  \\\n",
       "0  https://lendingclub.com/browse/loanDetail.acti...   \n",
       "1  https://lendingclub.com/browse/loanDetail.acti...   \n",
       "2  https://lendingclub.com/browse/loanDetail.acti...   \n",
       "\n",
       "                                                desc         purpose  \\\n",
       "0    Borrower added on 12/22/11 > I need to upgra...     credit_card   \n",
       "1    Borrower added on 12/22/11 > I plan to use t...             car   \n",
       "2                                                NaN  small_business   \n",
       "\n",
       "                  title zip_code addr_state    dti delinq_2yrs  \\\n",
       "0              Computer    860xx         AZ  27.65           0   \n",
       "1                  bike    309xx         GA      1           0   \n",
       "2  real estate business    606xx         IL   8.72           0   \n",
       "\n",
       "  earliest_cr_line inq_last_6mths mths_since_last_delinq  \\\n",
       "0           Jan-85              1                    NaN   \n",
       "1           Apr-99              5                    NaN   \n",
       "2           Nov-01              2                    NaN   \n",
       "\n",
       "  mths_since_last_record open_acc pub_rec revol_bal revol_util total_acc  \\\n",
       "0                    NaN        3       0     13648     83.70%         9   \n",
       "1                    NaN        3       0      1687      9.40%         4   \n",
       "2                    NaN        2       0      2956     98.50%        10   \n",
       "\n",
       "  out_prncp out_prncp_inv  total_pymnt total_pymnt_inv total_rec_prncp  \\\n",
       "0         0             0  5863.155187         5833.84            5000   \n",
       "1         0             0      1008.71         1008.71          456.46   \n",
       "2         0             0  3005.666844         3005.67            2400   \n",
       "\n",
       "  total_rec_int total_rec_late_fee recoveries collection_recovery_fee  \\\n",
       "0        863.16                  0          0                       0   \n",
       "1        435.17                  0     117.08                    1.11   \n",
       "2        605.67                  0          0                       0   \n",
       "\n",
       "  last_pymnt_d last_pymnt_amnt next_pymnt_d last_credit_pull_d  \\\n",
       "0       Jan-15          171.62          NaN             May-16   \n",
       "1       Apr-13          119.66          NaN             Sep-13   \n",
       "2       Jun-14          649.91          NaN             May-16   \n",
       "\n",
       "  pub_rec_bankruptcies  \n",
       "0                    0  \n",
       "1                    0  \n",
       "2                    0  "
      ]
     },
     "execution_count": 9,
     "metadata": {},
     "output_type": "execute_result"
    }
   ],
   "source": [
    "pd.set_option('display.max_columns', None)\n",
    "df.head(3)"
   ]
  },
  {
   "cell_type": "code",
   "execution_count": 10,
   "id": "68443e50",
   "metadata": {},
   "outputs": [
    {
     "data": {
      "text/plain": [
       "Index(['id', 'member_id', 'loan_amnt', 'funded_amnt', 'funded_amnt_inv',\n",
       "       'term', 'int_rate', 'installment', 'grade', 'sub_grade', 'emp_title',\n",
       "       'emp_length', 'home_ownership', 'annual_inc', 'verification_status',\n",
       "       'issue_d', 'loan_status', 'url', 'desc', 'purpose', 'title', 'zip_code',\n",
       "       'addr_state', 'dti', 'delinq_2yrs', 'earliest_cr_line',\n",
       "       'inq_last_6mths', 'mths_since_last_delinq', 'mths_since_last_record',\n",
       "       'open_acc', 'pub_rec', 'revol_bal', 'revol_util', 'total_acc',\n",
       "       'out_prncp', 'out_prncp_inv', 'total_pymnt', 'total_pymnt_inv',\n",
       "       'total_rec_prncp', 'total_rec_int', 'total_rec_late_fee', 'recoveries',\n",
       "       'collection_recovery_fee', 'last_pymnt_d', 'last_pymnt_amnt',\n",
       "       'next_pymnt_d', 'last_credit_pull_d', 'pub_rec_bankruptcies'],\n",
       "      dtype='object')"
      ]
     },
     "execution_count": 10,
     "metadata": {},
     "output_type": "execute_result"
    }
   ],
   "source": [
    "df.columns"
   ]
  },
  {
   "cell_type": "markdown",
   "id": "762a7f58",
   "metadata": {},
   "source": [
    "<h4>Format the Column Data</h4>\n",
    "Now let's do further cleansing, correct the column data of columns <b>term</b>, <b>int_rate</b>, <b>emp_length</b> to have proper data type."
   ]
  },
  {
   "cell_type": "code",
   "execution_count": 11,
   "id": "45749d24",
   "metadata": {},
   "outputs": [
    {
     "data": {
      "text/plain": [
       "array([' 36 months', ' 60 months'], dtype=object)"
      ]
     },
     "execution_count": 11,
     "metadata": {},
     "output_type": "execute_result"
    }
   ],
   "source": [
    "np.unique(df['term'])"
   ]
  },
  {
   "cell_type": "code",
   "execution_count": 12,
   "id": "4fbe4be9",
   "metadata": {},
   "outputs": [
    {
     "data": {
      "text/html": [
       "<div>\n",
       "<style scoped>\n",
       "    .dataframe tbody tr th:only-of-type {\n",
       "        vertical-align: middle;\n",
       "    }\n",
       "\n",
       "    .dataframe tbody tr th {\n",
       "        vertical-align: top;\n",
       "    }\n",
       "\n",
       "    .dataframe thead th {\n",
       "        text-align: right;\n",
       "    }\n",
       "</style>\n",
       "<table border=\"1\" class=\"dataframe\">\n",
       "  <thead>\n",
       "    <tr style=\"text-align: right;\">\n",
       "      <th></th>\n",
       "      <th>id</th>\n",
       "      <th>member_id</th>\n",
       "      <th>loan_amnt</th>\n",
       "      <th>funded_amnt</th>\n",
       "      <th>funded_amnt_inv</th>\n",
       "      <th>term</th>\n",
       "      <th>int_rate</th>\n",
       "      <th>installment</th>\n",
       "      <th>grade</th>\n",
       "      <th>sub_grade</th>\n",
       "      <th>emp_title</th>\n",
       "      <th>emp_length</th>\n",
       "      <th>home_ownership</th>\n",
       "      <th>annual_inc</th>\n",
       "      <th>verification_status</th>\n",
       "      <th>issue_d</th>\n",
       "      <th>loan_status</th>\n",
       "      <th>url</th>\n",
       "      <th>desc</th>\n",
       "      <th>purpose</th>\n",
       "      <th>title</th>\n",
       "      <th>zip_code</th>\n",
       "      <th>addr_state</th>\n",
       "      <th>dti</th>\n",
       "      <th>delinq_2yrs</th>\n",
       "      <th>earliest_cr_line</th>\n",
       "      <th>inq_last_6mths</th>\n",
       "      <th>mths_since_last_delinq</th>\n",
       "      <th>mths_since_last_record</th>\n",
       "      <th>open_acc</th>\n",
       "      <th>pub_rec</th>\n",
       "      <th>revol_bal</th>\n",
       "      <th>revol_util</th>\n",
       "      <th>total_acc</th>\n",
       "      <th>out_prncp</th>\n",
       "      <th>out_prncp_inv</th>\n",
       "      <th>total_pymnt</th>\n",
       "      <th>total_pymnt_inv</th>\n",
       "      <th>total_rec_prncp</th>\n",
       "      <th>total_rec_int</th>\n",
       "      <th>total_rec_late_fee</th>\n",
       "      <th>recoveries</th>\n",
       "      <th>collection_recovery_fee</th>\n",
       "      <th>last_pymnt_d</th>\n",
       "      <th>last_pymnt_amnt</th>\n",
       "      <th>next_pymnt_d</th>\n",
       "      <th>last_credit_pull_d</th>\n",
       "      <th>pub_rec_bankruptcies</th>\n",
       "    </tr>\n",
       "  </thead>\n",
       "  <tbody>\n",
       "    <tr>\n",
       "      <th>0</th>\n",
       "      <td>1077501</td>\n",
       "      <td>1296599</td>\n",
       "      <td>5000</td>\n",
       "      <td>5000</td>\n",
       "      <td>4975</td>\n",
       "      <td>36</td>\n",
       "      <td>10.65%</td>\n",
       "      <td>162.87</td>\n",
       "      <td>B</td>\n",
       "      <td>B2</td>\n",
       "      <td>NaN</td>\n",
       "      <td>10+ years</td>\n",
       "      <td>RENT</td>\n",
       "      <td>24000</td>\n",
       "      <td>Verified</td>\n",
       "      <td>Dec-11</td>\n",
       "      <td>Fully Paid</td>\n",
       "      <td>https://lendingclub.com/browse/loanDetail.acti...</td>\n",
       "      <td>Borrower added on 12/22/11 &gt; I need to upgra...</td>\n",
       "      <td>credit_card</td>\n",
       "      <td>Computer</td>\n",
       "      <td>860xx</td>\n",
       "      <td>AZ</td>\n",
       "      <td>27.65</td>\n",
       "      <td>0</td>\n",
       "      <td>Jan-85</td>\n",
       "      <td>1</td>\n",
       "      <td>NaN</td>\n",
       "      <td>NaN</td>\n",
       "      <td>3</td>\n",
       "      <td>0</td>\n",
       "      <td>13648</td>\n",
       "      <td>83.70%</td>\n",
       "      <td>9</td>\n",
       "      <td>0</td>\n",
       "      <td>0</td>\n",
       "      <td>5863.155187</td>\n",
       "      <td>5833.84</td>\n",
       "      <td>5000</td>\n",
       "      <td>863.16</td>\n",
       "      <td>0</td>\n",
       "      <td>0</td>\n",
       "      <td>0</td>\n",
       "      <td>Jan-15</td>\n",
       "      <td>171.62</td>\n",
       "      <td>NaN</td>\n",
       "      <td>May-16</td>\n",
       "      <td>0</td>\n",
       "    </tr>\n",
       "    <tr>\n",
       "      <th>1</th>\n",
       "      <td>1077430</td>\n",
       "      <td>1314167</td>\n",
       "      <td>2500</td>\n",
       "      <td>2500</td>\n",
       "      <td>2500</td>\n",
       "      <td>60</td>\n",
       "      <td>15.27%</td>\n",
       "      <td>59.83</td>\n",
       "      <td>C</td>\n",
       "      <td>C4</td>\n",
       "      <td>Ryder</td>\n",
       "      <td>&lt; 1 year</td>\n",
       "      <td>RENT</td>\n",
       "      <td>30000</td>\n",
       "      <td>Source Verified</td>\n",
       "      <td>Dec-11</td>\n",
       "      <td>Charged Off</td>\n",
       "      <td>https://lendingclub.com/browse/loanDetail.acti...</td>\n",
       "      <td>Borrower added on 12/22/11 &gt; I plan to use t...</td>\n",
       "      <td>car</td>\n",
       "      <td>bike</td>\n",
       "      <td>309xx</td>\n",
       "      <td>GA</td>\n",
       "      <td>1</td>\n",
       "      <td>0</td>\n",
       "      <td>Apr-99</td>\n",
       "      <td>5</td>\n",
       "      <td>NaN</td>\n",
       "      <td>NaN</td>\n",
       "      <td>3</td>\n",
       "      <td>0</td>\n",
       "      <td>1687</td>\n",
       "      <td>9.40%</td>\n",
       "      <td>4</td>\n",
       "      <td>0</td>\n",
       "      <td>0</td>\n",
       "      <td>1008.71</td>\n",
       "      <td>1008.71</td>\n",
       "      <td>456.46</td>\n",
       "      <td>435.17</td>\n",
       "      <td>0</td>\n",
       "      <td>117.08</td>\n",
       "      <td>1.11</td>\n",
       "      <td>Apr-13</td>\n",
       "      <td>119.66</td>\n",
       "      <td>NaN</td>\n",
       "      <td>Sep-13</td>\n",
       "      <td>0</td>\n",
       "    </tr>\n",
       "    <tr>\n",
       "      <th>2</th>\n",
       "      <td>1077175</td>\n",
       "      <td>1313524</td>\n",
       "      <td>2400</td>\n",
       "      <td>2400</td>\n",
       "      <td>2400</td>\n",
       "      <td>36</td>\n",
       "      <td>15.96%</td>\n",
       "      <td>84.33</td>\n",
       "      <td>C</td>\n",
       "      <td>C5</td>\n",
       "      <td>NaN</td>\n",
       "      <td>10+ years</td>\n",
       "      <td>RENT</td>\n",
       "      <td>12252</td>\n",
       "      <td>Not Verified</td>\n",
       "      <td>Dec-11</td>\n",
       "      <td>Fully Paid</td>\n",
       "      <td>https://lendingclub.com/browse/loanDetail.acti...</td>\n",
       "      <td>NaN</td>\n",
       "      <td>small_business</td>\n",
       "      <td>real estate business</td>\n",
       "      <td>606xx</td>\n",
       "      <td>IL</td>\n",
       "      <td>8.72</td>\n",
       "      <td>0</td>\n",
       "      <td>Nov-01</td>\n",
       "      <td>2</td>\n",
       "      <td>NaN</td>\n",
       "      <td>NaN</td>\n",
       "      <td>2</td>\n",
       "      <td>0</td>\n",
       "      <td>2956</td>\n",
       "      <td>98.50%</td>\n",
       "      <td>10</td>\n",
       "      <td>0</td>\n",
       "      <td>0</td>\n",
       "      <td>3005.666844</td>\n",
       "      <td>3005.67</td>\n",
       "      <td>2400</td>\n",
       "      <td>605.67</td>\n",
       "      <td>0</td>\n",
       "      <td>0</td>\n",
       "      <td>0</td>\n",
       "      <td>Jun-14</td>\n",
       "      <td>649.91</td>\n",
       "      <td>NaN</td>\n",
       "      <td>May-16</td>\n",
       "      <td>0</td>\n",
       "    </tr>\n",
       "  </tbody>\n",
       "</table>\n",
       "</div>"
      ],
      "text/plain": [
       "        id member_id loan_amnt funded_amnt funded_amnt_inv  term int_rate  \\\n",
       "0  1077501   1296599      5000        5000            4975    36   10.65%   \n",
       "1  1077430   1314167      2500        2500            2500    60   15.27%   \n",
       "2  1077175   1313524      2400        2400            2400    36   15.96%   \n",
       "\n",
       "  installment grade sub_grade emp_title emp_length home_ownership annual_inc  \\\n",
       "0      162.87     B        B2       NaN  10+ years           RENT      24000   \n",
       "1       59.83     C        C4     Ryder   < 1 year           RENT      30000   \n",
       "2       84.33     C        C5       NaN  10+ years           RENT      12252   \n",
       "\n",
       "  verification_status issue_d  loan_status  \\\n",
       "0            Verified  Dec-11   Fully Paid   \n",
       "1     Source Verified  Dec-11  Charged Off   \n",
       "2        Not Verified  Dec-11   Fully Paid   \n",
       "\n",
       "                                                 url  \\\n",
       "0  https://lendingclub.com/browse/loanDetail.acti...   \n",
       "1  https://lendingclub.com/browse/loanDetail.acti...   \n",
       "2  https://lendingclub.com/browse/loanDetail.acti...   \n",
       "\n",
       "                                                desc         purpose  \\\n",
       "0    Borrower added on 12/22/11 > I need to upgra...     credit_card   \n",
       "1    Borrower added on 12/22/11 > I plan to use t...             car   \n",
       "2                                                NaN  small_business   \n",
       "\n",
       "                  title zip_code addr_state    dti delinq_2yrs  \\\n",
       "0              Computer    860xx         AZ  27.65           0   \n",
       "1                  bike    309xx         GA      1           0   \n",
       "2  real estate business    606xx         IL   8.72           0   \n",
       "\n",
       "  earliest_cr_line inq_last_6mths mths_since_last_delinq  \\\n",
       "0           Jan-85              1                    NaN   \n",
       "1           Apr-99              5                    NaN   \n",
       "2           Nov-01              2                    NaN   \n",
       "\n",
       "  mths_since_last_record open_acc pub_rec revol_bal revol_util total_acc  \\\n",
       "0                    NaN        3       0     13648     83.70%         9   \n",
       "1                    NaN        3       0      1687      9.40%         4   \n",
       "2                    NaN        2       0      2956     98.50%        10   \n",
       "\n",
       "  out_prncp out_prncp_inv  total_pymnt total_pymnt_inv total_rec_prncp  \\\n",
       "0         0             0  5863.155187         5833.84            5000   \n",
       "1         0             0      1008.71         1008.71          456.46   \n",
       "2         0             0  3005.666844         3005.67            2400   \n",
       "\n",
       "  total_rec_int total_rec_late_fee recoveries collection_recovery_fee  \\\n",
       "0        863.16                  0          0                       0   \n",
       "1        435.17                  0     117.08                    1.11   \n",
       "2        605.67                  0          0                       0   \n",
       "\n",
       "  last_pymnt_d last_pymnt_amnt next_pymnt_d last_credit_pull_d  \\\n",
       "0       Jan-15          171.62          NaN             May-16   \n",
       "1       Apr-13          119.66          NaN             Sep-13   \n",
       "2       Jun-14          649.91          NaN             May-16   \n",
       "\n",
       "  pub_rec_bankruptcies  \n",
       "0                    0  \n",
       "1                    0  \n",
       "2                    0  "
      ]
     },
     "execution_count": 12,
     "metadata": {},
     "output_type": "execute_result"
    }
   ],
   "source": [
    "df['term'] = df.term.apply(lambda t: int(t.strip().split(' ')[0]))\n",
    "df.head(3)"
   ]
  },
  {
   "cell_type": "code",
   "execution_count": 13,
   "id": "07715670",
   "metadata": {},
   "outputs": [
    {
     "data": {
      "text/plain": [
       "array(['10.00%', '10.01%', '10.08%', '10.14%', '10.20%', '10.25%',\n",
       "       '10.28%', '10.33%', '10.36%', '10.37%', '10.38%', '10.39%',\n",
       "       '10.46%', '10.51%', '10.59%', '10.62%', '10.64%', '10.65%',\n",
       "       '10.71%', '10.74%', '10.75%', '10.78%', '10.83%', '10.91%',\n",
       "       '10.95%', '10.96%', '10.99%', '11.03%', '11.09%', '11.11%',\n",
       "       '11.12%', '11.14%', '11.22%', '11.26%', '11.28%', '11.34%',\n",
       "       '11.36%', '11.41%', '11.46%', '11.48%', '11.49%', '11.54%',\n",
       "       '11.58%', '11.59%', '11.63%', '11.66%', '11.71%', '11.72%',\n",
       "       '11.78%', '11.83%', '11.86%', '11.89%', '11.91%', '11.97%',\n",
       "       '11.99%', '12.04%', '12.09%', '12.12%', '12.17%', '12.18%',\n",
       "       '12.21%', '12.22%', '12.23%', '12.29%', '12.36%', '12.41%',\n",
       "       '12.42%', '12.49%', '12.53%', '12.54%', '12.61%', '12.62%',\n",
       "       '12.67%', '12.68%', '12.69%', '12.72%', '12.73%', '12.80%',\n",
       "       '12.84%', '12.86%', '12.87%', '12.92%', '12.98%', '12.99%',\n",
       "       '13.04%', '13.06%', '13.11%', '13.12%', '13.16%', '13.17%',\n",
       "       '13.22%', '13.23%', '13.24%', '13.30%', '13.35%', '13.36%',\n",
       "       '13.43%', '13.47%', '13.48%', '13.49%', '13.55%', '13.57%',\n",
       "       '13.61%', '13.62%', '13.67%', '13.72%', '13.75%', '13.79%',\n",
       "       '13.80%', '13.84%', '13.85%', '13.87%', '13.92%', '13.93%',\n",
       "       '13.98%', '13.99%', '14.07%', '14.09%', '14.11%', '14.12%',\n",
       "       '14.17%', '14.18%', '14.22%', '14.25%', '14.26%', '14.27%',\n",
       "       '14.30%', '14.35%', '14.38%', '14.42%', '14.46%', '14.50%',\n",
       "       '14.54%', '14.59%', '14.61%', '14.62%', '14.65%', '14.67%',\n",
       "       '14.70%', '14.72%', '14.74%', '14.75%', '14.79%', '14.82%',\n",
       "       '14.83%', '14.84%', '14.88%', '14.91%', '14.93%', '14.96%',\n",
       "       '15.01%', '15.05%', '15.07%', '15.13%', '15.20%', '15.21%',\n",
       "       '15.23%', '15.25%', '15.27%', '15.28%', '15.31%', '15.33%',\n",
       "       '15.37%', '15.38%', '15.45%', '15.57%', '15.58%', '15.62%',\n",
       "       '15.65%', '15.68%', '15.70%', '15.76%', '15.83%', '15.88%',\n",
       "       '15.95%', '15.96%', '15.99%', '16.00%', '16.01%', '16.02%',\n",
       "       '16.07%', '16.08%', '16.11%', '16.15%', '16.20%', '16.29%',\n",
       "       '16.32%', '16.33%', '16.35%', '16.40%', '16.45%', '16.49%',\n",
       "       '16.59%', '16.63%', '16.69%', '16.70%', '16.71%', '16.77%',\n",
       "       '16.82%', '16.89%', '16.95%', '16.96%', '17.03%', '17.04%',\n",
       "       '17.06%', '17.14%', '17.15%', '17.19%', '17.26%', '17.27%',\n",
       "       '17.34%', '17.39%', '17.43%', '17.44%', '17.46%', '17.49%',\n",
       "       '17.51%', '17.54%', '17.56%', '17.58%', '17.74%', '17.80%',\n",
       "       '17.88%', '17.90%', '17.93%', '17.99%', '18.07%', '18.09%',\n",
       "       '18.17%', '18.21%', '18.25%', '18.30%', '18.36%', '18.39%',\n",
       "       '18.43%', '18.49%', '18.53%', '18.54%', '18.62%', '18.64%',\n",
       "       '18.67%', '18.72%', '18.78%', '18.79%', '18.84%', '18.91%',\n",
       "       '18.99%', '19.03%', '19.04%', '19.13%', '19.16%', '19.29%',\n",
       "       '19.36%', '19.39%', '19.41%', '19.42%', '19.47%', '19.66%',\n",
       "       '19.69%', '19.74%', '19.79%', '19.82%', '19.91%', '20.03%',\n",
       "       '20.11%', '20.16%', '20.17%', '20.20%', '20.25%', '20.30%',\n",
       "       '20.40%', '20.48%', '20.52%', '20.53%', '20.62%', '20.69%',\n",
       "       '20.77%', '20.85%', '20.86%', '20.89%', '20.90%', '20.99%',\n",
       "       '21.14%', '21.21%', '21.22%', '21.27%', '21.28%', '21.36%',\n",
       "       '21.48%', '21.59%', '21.64%', '21.67%', '21.74%', '21.82%',\n",
       "       '22.06%', '22.11%', '22.35%', '22.48%', '22.64%', '22.74%',\n",
       "       '22.85%', '22.94%', '23.13%', '23.22%', '23.52%', '23.59%',\n",
       "       '23.91%', '24.11%', '24.40%', '24.59%', '5.42%', '5.79%', '5.99%',\n",
       "       '6.00%', '6.03%', '6.17%', '6.39%', '6.54%', '6.62%', '6.76%',\n",
       "       '6.91%', '6.92%', '6.99%', '7.05%', '7.12%', '7.14%', '7.29%',\n",
       "       '7.37%', '7.40%', '7.42%', '7.43%', '7.49%', '7.51%', '7.66%',\n",
       "       '7.68%', '7.74%', '7.75%', '7.88%', '7.90%', '7.91%', '8.00%',\n",
       "       '8.07%', '8.32%', '8.38%', '8.49%', '8.59%', '8.63%', '8.70%',\n",
       "       '8.88%', '8.90%', '8.94%', '9.01%', '9.07%', '9.20%', '9.25%',\n",
       "       '9.32%', '9.33%', '9.38%', '9.45%', '9.51%', '9.62%', '9.63%',\n",
       "       '9.64%', '9.67%', '9.70%', '9.76%', '9.83%', '9.88%', '9.91%',\n",
       "       '9.96%', '9.99%'], dtype=object)"
      ]
     },
     "execution_count": 13,
     "metadata": {},
     "output_type": "execute_result"
    }
   ],
   "source": [
    "np.unique(df['int_rate'])"
   ]
  },
  {
   "cell_type": "code",
   "execution_count": 14,
   "id": "9b753807",
   "metadata": {},
   "outputs": [
    {
     "data": {
      "text/html": [
       "<div>\n",
       "<style scoped>\n",
       "    .dataframe tbody tr th:only-of-type {\n",
       "        vertical-align: middle;\n",
       "    }\n",
       "\n",
       "    .dataframe tbody tr th {\n",
       "        vertical-align: top;\n",
       "    }\n",
       "\n",
       "    .dataframe thead th {\n",
       "        text-align: right;\n",
       "    }\n",
       "</style>\n",
       "<table border=\"1\" class=\"dataframe\">\n",
       "  <thead>\n",
       "    <tr style=\"text-align: right;\">\n",
       "      <th></th>\n",
       "      <th>id</th>\n",
       "      <th>member_id</th>\n",
       "      <th>loan_amnt</th>\n",
       "      <th>funded_amnt</th>\n",
       "      <th>funded_amnt_inv</th>\n",
       "      <th>term</th>\n",
       "      <th>int_rate</th>\n",
       "      <th>installment</th>\n",
       "      <th>grade</th>\n",
       "      <th>sub_grade</th>\n",
       "      <th>emp_title</th>\n",
       "      <th>emp_length</th>\n",
       "      <th>home_ownership</th>\n",
       "      <th>annual_inc</th>\n",
       "      <th>verification_status</th>\n",
       "      <th>issue_d</th>\n",
       "      <th>loan_status</th>\n",
       "      <th>url</th>\n",
       "      <th>desc</th>\n",
       "      <th>purpose</th>\n",
       "      <th>title</th>\n",
       "      <th>zip_code</th>\n",
       "      <th>addr_state</th>\n",
       "      <th>dti</th>\n",
       "      <th>delinq_2yrs</th>\n",
       "      <th>earliest_cr_line</th>\n",
       "      <th>inq_last_6mths</th>\n",
       "      <th>mths_since_last_delinq</th>\n",
       "      <th>mths_since_last_record</th>\n",
       "      <th>open_acc</th>\n",
       "      <th>pub_rec</th>\n",
       "      <th>revol_bal</th>\n",
       "      <th>revol_util</th>\n",
       "      <th>total_acc</th>\n",
       "      <th>out_prncp</th>\n",
       "      <th>out_prncp_inv</th>\n",
       "      <th>total_pymnt</th>\n",
       "      <th>total_pymnt_inv</th>\n",
       "      <th>total_rec_prncp</th>\n",
       "      <th>total_rec_int</th>\n",
       "      <th>total_rec_late_fee</th>\n",
       "      <th>recoveries</th>\n",
       "      <th>collection_recovery_fee</th>\n",
       "      <th>last_pymnt_d</th>\n",
       "      <th>last_pymnt_amnt</th>\n",
       "      <th>next_pymnt_d</th>\n",
       "      <th>last_credit_pull_d</th>\n",
       "      <th>pub_rec_bankruptcies</th>\n",
       "    </tr>\n",
       "  </thead>\n",
       "  <tbody>\n",
       "    <tr>\n",
       "      <th>0</th>\n",
       "      <td>1077501</td>\n",
       "      <td>1296599</td>\n",
       "      <td>5000</td>\n",
       "      <td>5000</td>\n",
       "      <td>4975</td>\n",
       "      <td>36</td>\n",
       "      <td>10.65</td>\n",
       "      <td>162.87</td>\n",
       "      <td>B</td>\n",
       "      <td>B2</td>\n",
       "      <td>NaN</td>\n",
       "      <td>10+ years</td>\n",
       "      <td>RENT</td>\n",
       "      <td>24000</td>\n",
       "      <td>Verified</td>\n",
       "      <td>Dec-11</td>\n",
       "      <td>Fully Paid</td>\n",
       "      <td>https://lendingclub.com/browse/loanDetail.acti...</td>\n",
       "      <td>Borrower added on 12/22/11 &gt; I need to upgra...</td>\n",
       "      <td>credit_card</td>\n",
       "      <td>Computer</td>\n",
       "      <td>860xx</td>\n",
       "      <td>AZ</td>\n",
       "      <td>27.65</td>\n",
       "      <td>0</td>\n",
       "      <td>Jan-85</td>\n",
       "      <td>1</td>\n",
       "      <td>NaN</td>\n",
       "      <td>NaN</td>\n",
       "      <td>3</td>\n",
       "      <td>0</td>\n",
       "      <td>13648</td>\n",
       "      <td>83.70%</td>\n",
       "      <td>9</td>\n",
       "      <td>0</td>\n",
       "      <td>0</td>\n",
       "      <td>5863.155187</td>\n",
       "      <td>5833.84</td>\n",
       "      <td>5000</td>\n",
       "      <td>863.16</td>\n",
       "      <td>0</td>\n",
       "      <td>0</td>\n",
       "      <td>0</td>\n",
       "      <td>Jan-15</td>\n",
       "      <td>171.62</td>\n",
       "      <td>NaN</td>\n",
       "      <td>May-16</td>\n",
       "      <td>0</td>\n",
       "    </tr>\n",
       "    <tr>\n",
       "      <th>1</th>\n",
       "      <td>1077430</td>\n",
       "      <td>1314167</td>\n",
       "      <td>2500</td>\n",
       "      <td>2500</td>\n",
       "      <td>2500</td>\n",
       "      <td>60</td>\n",
       "      <td>15.27</td>\n",
       "      <td>59.83</td>\n",
       "      <td>C</td>\n",
       "      <td>C4</td>\n",
       "      <td>Ryder</td>\n",
       "      <td>&lt; 1 year</td>\n",
       "      <td>RENT</td>\n",
       "      <td>30000</td>\n",
       "      <td>Source Verified</td>\n",
       "      <td>Dec-11</td>\n",
       "      <td>Charged Off</td>\n",
       "      <td>https://lendingclub.com/browse/loanDetail.acti...</td>\n",
       "      <td>Borrower added on 12/22/11 &gt; I plan to use t...</td>\n",
       "      <td>car</td>\n",
       "      <td>bike</td>\n",
       "      <td>309xx</td>\n",
       "      <td>GA</td>\n",
       "      <td>1</td>\n",
       "      <td>0</td>\n",
       "      <td>Apr-99</td>\n",
       "      <td>5</td>\n",
       "      <td>NaN</td>\n",
       "      <td>NaN</td>\n",
       "      <td>3</td>\n",
       "      <td>0</td>\n",
       "      <td>1687</td>\n",
       "      <td>9.40%</td>\n",
       "      <td>4</td>\n",
       "      <td>0</td>\n",
       "      <td>0</td>\n",
       "      <td>1008.71</td>\n",
       "      <td>1008.71</td>\n",
       "      <td>456.46</td>\n",
       "      <td>435.17</td>\n",
       "      <td>0</td>\n",
       "      <td>117.08</td>\n",
       "      <td>1.11</td>\n",
       "      <td>Apr-13</td>\n",
       "      <td>119.66</td>\n",
       "      <td>NaN</td>\n",
       "      <td>Sep-13</td>\n",
       "      <td>0</td>\n",
       "    </tr>\n",
       "    <tr>\n",
       "      <th>2</th>\n",
       "      <td>1077175</td>\n",
       "      <td>1313524</td>\n",
       "      <td>2400</td>\n",
       "      <td>2400</td>\n",
       "      <td>2400</td>\n",
       "      <td>36</td>\n",
       "      <td>15.96</td>\n",
       "      <td>84.33</td>\n",
       "      <td>C</td>\n",
       "      <td>C5</td>\n",
       "      <td>NaN</td>\n",
       "      <td>10+ years</td>\n",
       "      <td>RENT</td>\n",
       "      <td>12252</td>\n",
       "      <td>Not Verified</td>\n",
       "      <td>Dec-11</td>\n",
       "      <td>Fully Paid</td>\n",
       "      <td>https://lendingclub.com/browse/loanDetail.acti...</td>\n",
       "      <td>NaN</td>\n",
       "      <td>small_business</td>\n",
       "      <td>real estate business</td>\n",
       "      <td>606xx</td>\n",
       "      <td>IL</td>\n",
       "      <td>8.72</td>\n",
       "      <td>0</td>\n",
       "      <td>Nov-01</td>\n",
       "      <td>2</td>\n",
       "      <td>NaN</td>\n",
       "      <td>NaN</td>\n",
       "      <td>2</td>\n",
       "      <td>0</td>\n",
       "      <td>2956</td>\n",
       "      <td>98.50%</td>\n",
       "      <td>10</td>\n",
       "      <td>0</td>\n",
       "      <td>0</td>\n",
       "      <td>3005.666844</td>\n",
       "      <td>3005.67</td>\n",
       "      <td>2400</td>\n",
       "      <td>605.67</td>\n",
       "      <td>0</td>\n",
       "      <td>0</td>\n",
       "      <td>0</td>\n",
       "      <td>Jun-14</td>\n",
       "      <td>649.91</td>\n",
       "      <td>NaN</td>\n",
       "      <td>May-16</td>\n",
       "      <td>0</td>\n",
       "    </tr>\n",
       "  </tbody>\n",
       "</table>\n",
       "</div>"
      ],
      "text/plain": [
       "        id member_id loan_amnt funded_amnt funded_amnt_inv  term  int_rate  \\\n",
       "0  1077501   1296599      5000        5000            4975    36     10.65   \n",
       "1  1077430   1314167      2500        2500            2500    60     15.27   \n",
       "2  1077175   1313524      2400        2400            2400    36     15.96   \n",
       "\n",
       "  installment grade sub_grade emp_title emp_length home_ownership annual_inc  \\\n",
       "0      162.87     B        B2       NaN  10+ years           RENT      24000   \n",
       "1       59.83     C        C4     Ryder   < 1 year           RENT      30000   \n",
       "2       84.33     C        C5       NaN  10+ years           RENT      12252   \n",
       "\n",
       "  verification_status issue_d  loan_status  \\\n",
       "0            Verified  Dec-11   Fully Paid   \n",
       "1     Source Verified  Dec-11  Charged Off   \n",
       "2        Not Verified  Dec-11   Fully Paid   \n",
       "\n",
       "                                                 url  \\\n",
       "0  https://lendingclub.com/browse/loanDetail.acti...   \n",
       "1  https://lendingclub.com/browse/loanDetail.acti...   \n",
       "2  https://lendingclub.com/browse/loanDetail.acti...   \n",
       "\n",
       "                                                desc         purpose  \\\n",
       "0    Borrower added on 12/22/11 > I need to upgra...     credit_card   \n",
       "1    Borrower added on 12/22/11 > I plan to use t...             car   \n",
       "2                                                NaN  small_business   \n",
       "\n",
       "                  title zip_code addr_state    dti delinq_2yrs  \\\n",
       "0              Computer    860xx         AZ  27.65           0   \n",
       "1                  bike    309xx         GA      1           0   \n",
       "2  real estate business    606xx         IL   8.72           0   \n",
       "\n",
       "  earliest_cr_line inq_last_6mths mths_since_last_delinq  \\\n",
       "0           Jan-85              1                    NaN   \n",
       "1           Apr-99              5                    NaN   \n",
       "2           Nov-01              2                    NaN   \n",
       "\n",
       "  mths_since_last_record open_acc pub_rec revol_bal revol_util total_acc  \\\n",
       "0                    NaN        3       0     13648     83.70%         9   \n",
       "1                    NaN        3       0      1687      9.40%         4   \n",
       "2                    NaN        2       0      2956     98.50%        10   \n",
       "\n",
       "  out_prncp out_prncp_inv  total_pymnt total_pymnt_inv total_rec_prncp  \\\n",
       "0         0             0  5863.155187         5833.84            5000   \n",
       "1         0             0      1008.71         1008.71          456.46   \n",
       "2         0             0  3005.666844         3005.67            2400   \n",
       "\n",
       "  total_rec_int total_rec_late_fee recoveries collection_recovery_fee  \\\n",
       "0        863.16                  0          0                       0   \n",
       "1        435.17                  0     117.08                    1.11   \n",
       "2        605.67                  0          0                       0   \n",
       "\n",
       "  last_pymnt_d last_pymnt_amnt next_pymnt_d last_credit_pull_d  \\\n",
       "0       Jan-15          171.62          NaN             May-16   \n",
       "1       Apr-13          119.66          NaN             Sep-13   \n",
       "2       Jun-14          649.91          NaN             May-16   \n",
       "\n",
       "  pub_rec_bankruptcies  \n",
       "0                    0  \n",
       "1                    0  \n",
       "2                    0  "
      ]
     },
     "execution_count": 14,
     "metadata": {},
     "output_type": "execute_result"
    }
   ],
   "source": [
    "df['int_rate'] = df.int_rate.apply(lambda t: float(t.strip().replace('%','')))\n",
    "df.head(3)"
   ]
  },
  {
   "cell_type": "markdown",
   "id": "bc2bdfb0",
   "metadata": {},
   "source": [
    "<b>emp_length</b> has some special characters lets clean that as well. If the emp length is less than 1 then replace it with 0."
   ]
  },
  {
   "cell_type": "code",
   "execution_count": 15,
   "id": "e6223c09",
   "metadata": {},
   "outputs": [],
   "source": [
    "df['emp_length'] = df.emp_length.apply(lambda x: str(x).replace('+',''))\n",
    "df['emp_length'] = df.emp_length.apply(lambda x: str(x).strip().replace('years','').replace('year',''))\n",
    "df['emp_length'] = df.emp_length.apply(lambda x: float(x.replace('< 1','0')) if '< 1' in x else float(x))\n",
    "df['emp_length'].fillna(value = 0, inplace = True)\n"
   ]
  },
  {
   "cell_type": "code",
   "execution_count": 16,
   "id": "eee53293",
   "metadata": {},
   "outputs": [
    {
     "data": {
      "text/plain": [
       "array([ 0.,  1.,  2.,  3.,  4.,  5.,  6.,  7.,  8.,  9., 10.])"
      ]
     },
     "execution_count": 16,
     "metadata": {},
     "output_type": "execute_result"
    }
   ],
   "source": [
    "np.unique(df['emp_length'])"
   ]
  },
  {
   "cell_type": "code",
   "execution_count": 17,
   "id": "6b7c3dac",
   "metadata": {},
   "outputs": [
    {
     "data": {
      "text/html": [
       "<div>\n",
       "<style scoped>\n",
       "    .dataframe tbody tr th:only-of-type {\n",
       "        vertical-align: middle;\n",
       "    }\n",
       "\n",
       "    .dataframe tbody tr th {\n",
       "        vertical-align: top;\n",
       "    }\n",
       "\n",
       "    .dataframe thead th {\n",
       "        text-align: right;\n",
       "    }\n",
       "</style>\n",
       "<table border=\"1\" class=\"dataframe\">\n",
       "  <thead>\n",
       "    <tr style=\"text-align: right;\">\n",
       "      <th></th>\n",
       "      <th>id</th>\n",
       "      <th>member_id</th>\n",
       "      <th>loan_amnt</th>\n",
       "      <th>funded_amnt</th>\n",
       "      <th>funded_amnt_inv</th>\n",
       "      <th>term</th>\n",
       "      <th>int_rate</th>\n",
       "      <th>installment</th>\n",
       "      <th>grade</th>\n",
       "      <th>sub_grade</th>\n",
       "      <th>emp_title</th>\n",
       "      <th>emp_length</th>\n",
       "      <th>home_ownership</th>\n",
       "      <th>annual_inc</th>\n",
       "      <th>verification_status</th>\n",
       "      <th>issue_d</th>\n",
       "      <th>loan_status</th>\n",
       "      <th>url</th>\n",
       "      <th>desc</th>\n",
       "      <th>purpose</th>\n",
       "      <th>title</th>\n",
       "      <th>zip_code</th>\n",
       "      <th>addr_state</th>\n",
       "      <th>dti</th>\n",
       "      <th>delinq_2yrs</th>\n",
       "      <th>earliest_cr_line</th>\n",
       "      <th>inq_last_6mths</th>\n",
       "      <th>mths_since_last_delinq</th>\n",
       "      <th>mths_since_last_record</th>\n",
       "      <th>open_acc</th>\n",
       "      <th>pub_rec</th>\n",
       "      <th>revol_bal</th>\n",
       "      <th>revol_util</th>\n",
       "      <th>total_acc</th>\n",
       "      <th>out_prncp</th>\n",
       "      <th>out_prncp_inv</th>\n",
       "      <th>total_pymnt</th>\n",
       "      <th>total_pymnt_inv</th>\n",
       "      <th>total_rec_prncp</th>\n",
       "      <th>total_rec_int</th>\n",
       "      <th>total_rec_late_fee</th>\n",
       "      <th>recoveries</th>\n",
       "      <th>collection_recovery_fee</th>\n",
       "      <th>last_pymnt_d</th>\n",
       "      <th>last_pymnt_amnt</th>\n",
       "      <th>next_pymnt_d</th>\n",
       "      <th>last_credit_pull_d</th>\n",
       "      <th>pub_rec_bankruptcies</th>\n",
       "    </tr>\n",
       "  </thead>\n",
       "  <tbody>\n",
       "    <tr>\n",
       "      <th>0</th>\n",
       "      <td>1077501</td>\n",
       "      <td>1296599</td>\n",
       "      <td>5000</td>\n",
       "      <td>5000</td>\n",
       "      <td>4975</td>\n",
       "      <td>36</td>\n",
       "      <td>10.65</td>\n",
       "      <td>162.87</td>\n",
       "      <td>B</td>\n",
       "      <td>B2</td>\n",
       "      <td>NaN</td>\n",
       "      <td>10.0</td>\n",
       "      <td>RENT</td>\n",
       "      <td>24000</td>\n",
       "      <td>Verified</td>\n",
       "      <td>Dec-11</td>\n",
       "      <td>Fully Paid</td>\n",
       "      <td>https://lendingclub.com/browse/loanDetail.acti...</td>\n",
       "      <td>Borrower added on 12/22/11 &gt; I need to upgra...</td>\n",
       "      <td>credit_card</td>\n",
       "      <td>Computer</td>\n",
       "      <td>860xx</td>\n",
       "      <td>AZ</td>\n",
       "      <td>27.65</td>\n",
       "      <td>0</td>\n",
       "      <td>Jan-85</td>\n",
       "      <td>1</td>\n",
       "      <td>NaN</td>\n",
       "      <td>NaN</td>\n",
       "      <td>3</td>\n",
       "      <td>0</td>\n",
       "      <td>13648</td>\n",
       "      <td>83.70%</td>\n",
       "      <td>9</td>\n",
       "      <td>0</td>\n",
       "      <td>0</td>\n",
       "      <td>5863.155187</td>\n",
       "      <td>5833.84</td>\n",
       "      <td>5000</td>\n",
       "      <td>863.16</td>\n",
       "      <td>0</td>\n",
       "      <td>0</td>\n",
       "      <td>0</td>\n",
       "      <td>Jan-15</td>\n",
       "      <td>171.62</td>\n",
       "      <td>NaN</td>\n",
       "      <td>May-16</td>\n",
       "      <td>0</td>\n",
       "    </tr>\n",
       "    <tr>\n",
       "      <th>1</th>\n",
       "      <td>1077430</td>\n",
       "      <td>1314167</td>\n",
       "      <td>2500</td>\n",
       "      <td>2500</td>\n",
       "      <td>2500</td>\n",
       "      <td>60</td>\n",
       "      <td>15.27</td>\n",
       "      <td>59.83</td>\n",
       "      <td>C</td>\n",
       "      <td>C4</td>\n",
       "      <td>Ryder</td>\n",
       "      <td>0.0</td>\n",
       "      <td>RENT</td>\n",
       "      <td>30000</td>\n",
       "      <td>Source Verified</td>\n",
       "      <td>Dec-11</td>\n",
       "      <td>Charged Off</td>\n",
       "      <td>https://lendingclub.com/browse/loanDetail.acti...</td>\n",
       "      <td>Borrower added on 12/22/11 &gt; I plan to use t...</td>\n",
       "      <td>car</td>\n",
       "      <td>bike</td>\n",
       "      <td>309xx</td>\n",
       "      <td>GA</td>\n",
       "      <td>1</td>\n",
       "      <td>0</td>\n",
       "      <td>Apr-99</td>\n",
       "      <td>5</td>\n",
       "      <td>NaN</td>\n",
       "      <td>NaN</td>\n",
       "      <td>3</td>\n",
       "      <td>0</td>\n",
       "      <td>1687</td>\n",
       "      <td>9.40%</td>\n",
       "      <td>4</td>\n",
       "      <td>0</td>\n",
       "      <td>0</td>\n",
       "      <td>1008.71</td>\n",
       "      <td>1008.71</td>\n",
       "      <td>456.46</td>\n",
       "      <td>435.17</td>\n",
       "      <td>0</td>\n",
       "      <td>117.08</td>\n",
       "      <td>1.11</td>\n",
       "      <td>Apr-13</td>\n",
       "      <td>119.66</td>\n",
       "      <td>NaN</td>\n",
       "      <td>Sep-13</td>\n",
       "      <td>0</td>\n",
       "    </tr>\n",
       "    <tr>\n",
       "      <th>2</th>\n",
       "      <td>1077175</td>\n",
       "      <td>1313524</td>\n",
       "      <td>2400</td>\n",
       "      <td>2400</td>\n",
       "      <td>2400</td>\n",
       "      <td>36</td>\n",
       "      <td>15.96</td>\n",
       "      <td>84.33</td>\n",
       "      <td>C</td>\n",
       "      <td>C5</td>\n",
       "      <td>NaN</td>\n",
       "      <td>10.0</td>\n",
       "      <td>RENT</td>\n",
       "      <td>12252</td>\n",
       "      <td>Not Verified</td>\n",
       "      <td>Dec-11</td>\n",
       "      <td>Fully Paid</td>\n",
       "      <td>https://lendingclub.com/browse/loanDetail.acti...</td>\n",
       "      <td>NaN</td>\n",
       "      <td>small_business</td>\n",
       "      <td>real estate business</td>\n",
       "      <td>606xx</td>\n",
       "      <td>IL</td>\n",
       "      <td>8.72</td>\n",
       "      <td>0</td>\n",
       "      <td>Nov-01</td>\n",
       "      <td>2</td>\n",
       "      <td>NaN</td>\n",
       "      <td>NaN</td>\n",
       "      <td>2</td>\n",
       "      <td>0</td>\n",
       "      <td>2956</td>\n",
       "      <td>98.50%</td>\n",
       "      <td>10</td>\n",
       "      <td>0</td>\n",
       "      <td>0</td>\n",
       "      <td>3005.666844</td>\n",
       "      <td>3005.67</td>\n",
       "      <td>2400</td>\n",
       "      <td>605.67</td>\n",
       "      <td>0</td>\n",
       "      <td>0</td>\n",
       "      <td>0</td>\n",
       "      <td>Jun-14</td>\n",
       "      <td>649.91</td>\n",
       "      <td>NaN</td>\n",
       "      <td>May-16</td>\n",
       "      <td>0</td>\n",
       "    </tr>\n",
       "  </tbody>\n",
       "</table>\n",
       "</div>"
      ],
      "text/plain": [
       "        id member_id loan_amnt funded_amnt funded_amnt_inv  term  int_rate  \\\n",
       "0  1077501   1296599      5000        5000            4975    36     10.65   \n",
       "1  1077430   1314167      2500        2500            2500    60     15.27   \n",
       "2  1077175   1313524      2400        2400            2400    36     15.96   \n",
       "\n",
       "  installment grade sub_grade emp_title  emp_length home_ownership annual_inc  \\\n",
       "0      162.87     B        B2       NaN        10.0           RENT      24000   \n",
       "1       59.83     C        C4     Ryder         0.0           RENT      30000   \n",
       "2       84.33     C        C5       NaN        10.0           RENT      12252   \n",
       "\n",
       "  verification_status issue_d  loan_status  \\\n",
       "0            Verified  Dec-11   Fully Paid   \n",
       "1     Source Verified  Dec-11  Charged Off   \n",
       "2        Not Verified  Dec-11   Fully Paid   \n",
       "\n",
       "                                                 url  \\\n",
       "0  https://lendingclub.com/browse/loanDetail.acti...   \n",
       "1  https://lendingclub.com/browse/loanDetail.acti...   \n",
       "2  https://lendingclub.com/browse/loanDetail.acti...   \n",
       "\n",
       "                                                desc         purpose  \\\n",
       "0    Borrower added on 12/22/11 > I need to upgra...     credit_card   \n",
       "1    Borrower added on 12/22/11 > I plan to use t...             car   \n",
       "2                                                NaN  small_business   \n",
       "\n",
       "                  title zip_code addr_state    dti delinq_2yrs  \\\n",
       "0              Computer    860xx         AZ  27.65           0   \n",
       "1                  bike    309xx         GA      1           0   \n",
       "2  real estate business    606xx         IL   8.72           0   \n",
       "\n",
       "  earliest_cr_line inq_last_6mths mths_since_last_delinq  \\\n",
       "0           Jan-85              1                    NaN   \n",
       "1           Apr-99              5                    NaN   \n",
       "2           Nov-01              2                    NaN   \n",
       "\n",
       "  mths_since_last_record open_acc pub_rec revol_bal revol_util total_acc  \\\n",
       "0                    NaN        3       0     13648     83.70%         9   \n",
       "1                    NaN        3       0      1687      9.40%         4   \n",
       "2                    NaN        2       0      2956     98.50%        10   \n",
       "\n",
       "  out_prncp out_prncp_inv  total_pymnt total_pymnt_inv total_rec_prncp  \\\n",
       "0         0             0  5863.155187         5833.84            5000   \n",
       "1         0             0      1008.71         1008.71          456.46   \n",
       "2         0             0  3005.666844         3005.67            2400   \n",
       "\n",
       "  total_rec_int total_rec_late_fee recoveries collection_recovery_fee  \\\n",
       "0        863.16                  0          0                       0   \n",
       "1        435.17                  0     117.08                    1.11   \n",
       "2        605.67                  0          0                       0   \n",
       "\n",
       "  last_pymnt_d last_pymnt_amnt next_pymnt_d last_credit_pull_d  \\\n",
       "0       Jan-15          171.62          NaN             May-16   \n",
       "1       Apr-13          119.66          NaN             Sep-13   \n",
       "2       Jun-14          649.91          NaN             May-16   \n",
       "\n",
       "  pub_rec_bankruptcies  \n",
       "0                    0  \n",
       "1                    0  \n",
       "2                    0  "
      ]
     },
     "execution_count": 17,
     "metadata": {},
     "output_type": "execute_result"
    }
   ],
   "source": [
    "df.head(3)"
   ]
  },
  {
   "cell_type": "code",
   "execution_count": 18,
   "id": "e36f6ea3",
   "metadata": {},
   "outputs": [
    {
     "data": {
      "text/plain": [
       "array(['Fully Paid', 'Charged Off', 'Current'], dtype=object)"
      ]
     },
     "execution_count": 18,
     "metadata": {},
     "output_type": "execute_result"
    }
   ],
   "source": [
    "df['loan_status'].unique()"
   ]
  },
  {
   "cell_type": "markdown",
   "id": "2f69d7c5",
   "metadata": {},
   "source": [
    "Convert date and time related columns to date or timestamp type. We have <b>earliest_cr_line, issue_d, last_pymnt_d and  last_credit_pull_d</b> with month and year data. In addition to this, add additional columns both month and year wise. Convert this into valid date format. Let's write python function to do this conversion."
   ]
  },
  {
   "cell_type": "code",
   "execution_count": 19,
   "id": "f11fb9bd",
   "metadata": {},
   "outputs": [],
   "source": [
    "def convert_to_date(df, col_name):\n",
    "    df[col_name] = pd.to_datetime(df[col_name], format = \"%b-%y\")\n",
    "    df[col_name+'_month'] = df[col_name].dt.month\n",
    "    df[col_name+'_year'] = df[col_name].dt.year\n",
    "    \n",
    "\n",
    "convert_to_date(df,'earliest_cr_line')"
   ]
  },
  {
   "cell_type": "code",
   "execution_count": 20,
   "id": "2619b4f6",
   "metadata": {},
   "outputs": [],
   "source": [
    "convert_to_date(df,'issue_d')\n",
    "convert_to_date(df,'last_pymnt_d')\n",
    "convert_to_date(df,'last_credit_pull_d')"
   ]
  },
  {
   "cell_type": "code",
   "execution_count": 21,
   "id": "c5bddbb2",
   "metadata": {},
   "outputs": [
    {
     "data": {
      "text/plain": [
       "count                            39717\n",
       "mean     2010-11-03 23:26:45.166553344\n",
       "min                2007-06-01 00:00:00\n",
       "25%                2010-05-01 00:00:00\n",
       "50%                2011-02-01 00:00:00\n",
       "75%                2011-08-01 00:00:00\n",
       "max                2011-12-01 00:00:00\n",
       "Name: issue_d, dtype: object"
      ]
     },
     "execution_count": 21,
     "metadata": {},
     "output_type": "execute_result"
    }
   ],
   "source": [
    "df['issue_d'].describe(datetime_is_numeric=True) ### to avoid warning had to pass datetime_is_numeric=True"
   ]
  },
  {
   "cell_type": "markdown",
   "id": "57394885",
   "metadata": {},
   "source": []
  },
  {
   "cell_type": "code",
   "execution_count": 22,
   "id": "a25c036f",
   "metadata": {},
   "outputs": [
    {
     "data": {
      "text/plain": [
       "(39717, 56)"
      ]
     },
     "execution_count": 22,
     "metadata": {},
     "output_type": "execute_result"
    }
   ],
   "source": [
    "df.shape"
   ]
  },
  {
   "cell_type": "markdown",
   "id": "b6958a2a",
   "metadata": {},
   "source": [
    "Before proceed with further analysis, let's check if there is any <b>invalid</b> rows present."
   ]
  },
  {
   "cell_type": "code",
   "execution_count": 23,
   "id": "ff6b1d1c",
   "metadata": {},
   "outputs": [
    {
     "data": {
      "text/plain": [
       "emp_title                    6.19\n",
       "desc                        32.58\n",
       "title                        0.03\n",
       "mths_since_last_delinq      64.66\n",
       "mths_since_last_record      92.99\n",
       "revol_util                   0.13\n",
       "last_pymnt_d                 0.18\n",
       "next_pymnt_d                97.13\n",
       "last_credit_pull_d           0.01\n",
       "pub_rec_bankruptcies         1.75\n",
       "last_pymnt_d_month           0.18\n",
       "last_pymnt_d_year            0.18\n",
       "last_credit_pull_d_month     0.01\n",
       "last_credit_pull_d_year      0.01\n",
       "dtype: float64"
      ]
     },
     "execution_count": 23,
     "metadata": {},
     "output_type": "execute_result"
    }
   ],
   "source": [
    "df_missing = round(100*(df.isnull().sum()/len(df.id)), 2)\n",
    "df_missing[df_missing != 0]"
   ]
  },
  {
   "cell_type": "markdown",
   "id": "4c9ee5e1",
   "metadata": {},
   "source": [
    "The desc column contains 32.58 missing data and the information available in this is not going to add any value. So let's remove desc column."
   ]
  },
  {
   "cell_type": "code",
   "execution_count": 24,
   "id": "715d92f8",
   "metadata": {},
   "outputs": [],
   "source": [
    "df = df.drop('desc',axis=1)"
   ]
  },
  {
   "cell_type": "markdown",
   "id": "c71db066",
   "metadata": {},
   "source": [
    "Let's check for columns that contains categorical values"
   ]
  },
  {
   "cell_type": "code",
   "execution_count": 25,
   "id": "ddff23f1",
   "metadata": {},
   "outputs": [
    {
     "data": {
      "text/plain": [
       "term                            2\n",
       "next_pymnt_d                    2\n",
       "loan_status                     3\n",
       "pub_rec_bankruptcies            3\n",
       "verification_status             3\n",
       "issue_d_year                    5\n",
       "pub_rec                         5\n",
       "home_ownership                  5\n",
       "grade                           7\n",
       "last_pymnt_d_year               9\n",
       "inq_last_6mths                  9\n",
       "last_credit_pull_d_year        10\n",
       "delinq_2yrs                    11\n",
       "emp_length                     11\n",
       "last_credit_pull_d_month       12\n",
       "earliest_cr_line_month         12\n",
       "issue_d_month                  12\n",
       "last_pymnt_d_month             12\n",
       "purpose                        14\n",
       "sub_grade                      35\n",
       "open_acc                       40\n",
       "addr_state                     50\n",
       "earliest_cr_line_year          53\n",
       "issue_d                        55\n",
       "total_acc                      82\n",
       "mths_since_last_delinq         95\n",
       "last_pymnt_d                  101\n",
       "last_credit_pull_d            106\n",
       "mths_since_last_record        111\n",
       "int_rate                      371\n",
       "earliest_cr_line              526\n",
       "zip_code                      823\n",
       "loan_amnt                     885\n",
       "funded_amnt                  1041\n",
       "revol_util                   1089\n",
       "out_prncp                    1137\n",
       "out_prncp_inv                1138\n",
       "total_rec_late_fee           1356\n",
       "collection_recovery_fee      2616\n",
       "dti                          2868\n",
       "recoveries                   4040\n",
       "annual_inc                   5318\n",
       "total_rec_prncp              7976\n",
       "funded_amnt_inv              8205\n",
       "installment                 15383\n",
       "title                       19615\n",
       "revol_bal                   21711\n",
       "emp_title                   28820\n",
       "last_pymnt_amnt             34930\n",
       "total_rec_int               35148\n",
       "total_pymnt_inv             37518\n",
       "total_pymnt                 37850\n",
       "url                         39717\n",
       "member_id                   39717\n",
       "id                          39717\n",
       "dtype: int64"
      ]
     },
     "execution_count": 25,
     "metadata": {},
     "output_type": "execute_result"
    }
   ],
   "source": [
    "df.nunique().sort_values()"
   ]
  },
  {
   "cell_type": "markdown",
   "id": "a396887e",
   "metadata": {},
   "source": [
    "Job title and Employment length can have impact on loan repayment, rows without this data will not be useful. So let's remove the rows with <b>emp_length</b> and <b>emp_title</b>"
   ]
  },
  {
   "cell_type": "code",
   "execution_count": 26,
   "id": "ca283c94",
   "metadata": {},
   "outputs": [],
   "source": [
    "df=df[~df.emp_title.isnull()]\n",
    "df=df[~df.emp_length.isnull()]"
   ]
  },
  {
   "cell_type": "code",
   "execution_count": 27,
   "id": "59f560c5",
   "metadata": {},
   "outputs": [
    {
     "data": {
      "text/plain": [
       "(37258, 55)"
      ]
     },
     "execution_count": 27,
     "metadata": {},
     "output_type": "execute_result"
    }
   ],
   "source": [
    "df.shape"
   ]
  },
  {
   "cell_type": "markdown",
   "id": "1b6a8ddb",
   "metadata": {},
   "source": [
    "In addition to the above columns there are small percentage of missing rows for the following columns <b>title, revol_util</b> and <b>last_pymnt_d</b>. As per the data dictionary these data will be useful for our analysis. So, null values to these columns has to be removed."
   ]
  },
  {
   "cell_type": "code",
   "execution_count": 28,
   "id": "4c13f46e",
   "metadata": {},
   "outputs": [],
   "source": [
    "df=df[~df.title.isnull()]\n",
    "df=df[~df.revol_util.isnull()]\n",
    "df=df[~df.last_pymnt_d.isnull()]"
   ]
  },
  {
   "cell_type": "code",
   "execution_count": 29,
   "id": "2f3a9480",
   "metadata": {},
   "outputs": [
    {
     "data": {
      "text/plain": [
       "(37143, 55)"
      ]
     },
     "execution_count": 29,
     "metadata": {},
     "output_type": "execute_result"
    }
   ],
   "source": [
    "df.shape"
   ]
  },
  {
   "cell_type": "markdown",
   "id": "95319908",
   "metadata": {},
   "source": [
    "The following columns <b>id, url, member_id </b>and <b> zip_code</b> not going to add any value to our analysis. So, droppping these columns. The columns <b>funded_amnt_inv </b>and <b> funded_amnt </b>  is the loan amount this also will not be useful for our objective."
   ]
  },
  {
   "cell_type": "code",
   "execution_count": 30,
   "id": "bb45383f",
   "metadata": {},
   "outputs": [],
   "source": [
    "clean_df = df.drop(['id', 'url', 'member_id','zip_code','funded_amnt_inv','funded_amnt'],axis=1)"
   ]
  },
  {
   "cell_type": "code",
   "execution_count": 31,
   "id": "f00053b0",
   "metadata": {},
   "outputs": [
    {
     "data": {
      "text/plain": [
       "(37143, 49)"
      ]
     },
     "execution_count": 31,
     "metadata": {},
     "output_type": "execute_result"
    }
   ],
   "source": [
    "clean_df.shape"
   ]
  },
  {
   "cell_type": "markdown",
   "id": "0eb0cc5d",
   "metadata": {},
   "source": [
    "Save this clean data into a new CSV file."
   ]
  },
  {
   "cell_type": "code",
   "execution_count": 32,
   "id": "d4d4bbb4",
   "metadata": {},
   "outputs": [],
   "source": [
    "clean_df.to_csv('clean_loan.csv', encoding='utf-8', index=False)"
   ]
  },
  {
   "cell_type": "markdown",
   "id": "4a639ab1",
   "metadata": {},
   "source": [
    "With this data cleansing and formatting has completed. Next let's start with Univariate analysis.\n",
    "\n",
    "<h3 style = \"text-align:center\">Analysis</h3>\n",
    "        <p> We have loan status of 'Fully Paid', 'Charged Off' and 'Current'. The status 'Current' will not useful to determine the defaulters, so lets remove the records with status Current. Also create new column <b>loan_status_val</b> and give numerical values for 'Fully Paid'=0 and 'Charges Off'=1 </p>"
   ]
  },
  {
   "cell_type": "code",
   "execution_count": 33,
   "id": "ea3bc847",
   "metadata": {},
   "outputs": [],
   "source": [
    "loan_df = pd.read_csv('clean_loan.csv', encoding='utf-8',low_memory=False)"
   ]
  },
  {
   "cell_type": "code",
   "execution_count": 34,
   "id": "9d010b1c",
   "metadata": {},
   "outputs": [
    {
     "data": {
      "text/plain": [
       "Fully Paid     31009\n",
       "Charged Off     5067\n",
       "Current         1067\n",
       "Name: loan_status, dtype: int64"
      ]
     },
     "execution_count": 34,
     "metadata": {},
     "output_type": "execute_result"
    }
   ],
   "source": [
    "loan_df.loan_status.value_counts()"
   ]
  },
  {
   "cell_type": "code",
   "execution_count": 35,
   "id": "00bda383",
   "metadata": {},
   "outputs": [
    {
     "data": {
      "text/plain": [
       "(36076, 50)"
      ]
     },
     "execution_count": 35,
     "metadata": {},
     "output_type": "execute_result"
    }
   ],
   "source": [
    "loan_df = loan_df[loan_df['loan_status'].isin(['Fully Paid','Charged Off'])]\n",
    "loan_df['loan_status_val'] = loan_df.loan_status.apply(lambda x: 0 if x=='Fully Paid' else 1)\n",
    "loan_df.shape"
   ]
  },
  {
   "cell_type": "markdown",
   "id": "322d0ccb",
   "metadata": {},
   "source": [
    "<h3 style = \"text-align:center\">Univariante Analysis</h3>"
   ]
  },
  {
   "cell_type": "code",
   "execution_count": 36,
   "id": "30ab0e49",
   "metadata": {},
   "outputs": [],
   "source": [
    "import matplotlib.pyplot as plt\n",
    "from matplotlib import style\n",
    "import seaborn as sns\n",
    "sns.set(style='whitegrid')"
   ]
  },
  {
   "cell_type": "code",
   "execution_count": 37,
   "id": "ade9c3cf",
   "metadata": {},
   "outputs": [
    {
     "data": {
      "image/png": "[encoded data removed]",
      "text/plain": [
       "<Figure size 360x504 with 1 Axes>"
      ]
     },
     "metadata": {},
     "output_type": "display_data"
    }
   ],
   "source": [
    "plt.figure(figsize=(5,7))\n",
    "ax = loan_df.groupby('loan_status').loan_amnt.count().plot.bar()\n",
    "plt.show()"
   ]
  },
  {
   "cell_type": "code",
   "execution_count": 38,
   "id": "a690b8e5",
   "metadata": {},
   "outputs": [
    {
     "data": {
      "text/plain": [
       "14.045348708282514"
      ]
     },
     "execution_count": 38,
     "metadata": {},
     "output_type": "execute_result"
    }
   ],
   "source": [
    "loan_df.loc[loan_df['loan_status'] == 'Charged Off'].loan_status.count() * 100/len(loan_df)"
   ]
  },
  {
   "cell_type": "markdown",
   "id": "6c127f4d",
   "metadata": {},
   "source": [
    "As per the data around <b>14%</b> of loans have been defaulted."
   ]
  },
  {
   "cell_type": "code",
   "execution_count": 39,
   "id": "2fbff354",
   "metadata": {},
   "outputs": [
    {
     "name": "stdout",
     "output_type": "stream",
     "text": [
      "loan_status\n",
      "Charged Off     57.105279\n",
      "Fully Paid     117.198192\n",
      "dtype: float64\n"
     ]
    }
   ],
   "source": [
    "print(loan_df.groupby('loan_status').total_pymnt.sum() * 100 / loan_df.groupby('loan_status').loan_amnt.sum())"
   ]
  },
  {
   "cell_type": "markdown",
   "id": "1e6abc49",
   "metadata": {},
   "source": [
    "Out of all defaulted loans only <b>57 %</b> percentage of loans have been recovered."
   ]
  },
  {
   "cell_type": "code",
   "execution_count": 40,
   "id": "553be8b0",
   "metadata": {},
   "outputs": [
    {
     "data": {
      "text/plain": [
       "<AxesSubplot:xlabel='loan_status'>"
      ]
     },
     "execution_count": 40,
     "metadata": {},
     "output_type": "execute_result"
    },
    {
     "data": {
      "image/png": "[encoded data removed]",
      "text/plain": [
       "<Figure size 432x288 with 1 Axes>"
      ]
     },
     "metadata": {},
     "output_type": "display_data"
    }
   ],
   "source": [
    "(loan_df.groupby('loan_status').total_pymnt.sum() * 100 / loan_df.groupby('loan_status').loan_amnt.sum()).plot.bar()"
   ]
  },
  {
   "cell_type": "markdown",
   "id": "13e35b6e",
   "metadata": {},
   "source": [
    "<b><h4>Variable: Loan Amount</h4></b>\n",
    "Next let's take <b>loan_amt</b> variable for our analysis. As per data disctionary the loan_amnt is, <i>\"The listed amount of the loan applied for by the borrower. If at some point in time, the credit department reduces the loan amount, then it will be reflected in this value.\"</i>"
   ]
  },
  {
   "cell_type": "code",
   "execution_count": 41,
   "id": "4df6686a",
   "metadata": {},
   "outputs": [],
   "source": [
    "import warnings\n",
    "warnings.simplefilter(action='ignore', category=FutureWarning) ### To avoid future deprecation warnings\n",
    "\n",
    "def plot_distribution(df, col):\n",
    "    plt.figure(figsize=(15,5))\n",
    "    plt.subplot(1, 2, 1)\n",
    "    ax = sns.distplot(loan_df[col])\n",
    "    plt.subplot(1, 2, 2)\n",
    "    sns.boxplot(x=loan_df[col], y=loan_df['loan_status'], data=loan_df)\n",
    "    plt.show()"
   ]
  },
  {
   "cell_type": "code",
   "execution_count": 42,
   "id": "62881947",
   "metadata": {},
   "outputs": [
    {
     "data": {
      "image/png": "[encoded data removed]",
      "text/plain": [
       "<Figure size 1080x360 with 2 Axes>"
      ]
     },
     "metadata": {},
     "output_type": "display_data"
    }
   ],
   "source": [
    "plot_distribution(loan_df, 'loan_amnt')"
   ]
  },
  {
   "cell_type": "code",
   "execution_count": 43,
   "id": "013651ce",
   "metadata": {},
   "outputs": [
    {
     "data": {
      "text/html": [
       "<div>\n",
       "<style scoped>\n",
       "    .dataframe tbody tr th:only-of-type {\n",
       "        vertical-align: middle;\n",
       "    }\n",
       "\n",
       "    .dataframe tbody tr th {\n",
       "        vertical-align: top;\n",
       "    }\n",
       "\n",
       "    .dataframe thead th {\n",
       "        text-align: right;\n",
       "    }\n",
       "</style>\n",
       "<table border=\"1\" class=\"dataframe\">\n",
       "  <thead>\n",
       "    <tr style=\"text-align: right;\">\n",
       "      <th></th>\n",
       "      <th>count</th>\n",
       "      <th>mean</th>\n",
       "      <th>std</th>\n",
       "      <th>min</th>\n",
       "      <th>25%</th>\n",
       "      <th>50%</th>\n",
       "      <th>75%</th>\n",
       "      <th>max</th>\n",
       "    </tr>\n",
       "    <tr>\n",
       "      <th>loan_status</th>\n",
       "      <th></th>\n",
       "      <th></th>\n",
       "      <th></th>\n",
       "      <th></th>\n",
       "      <th></th>\n",
       "      <th></th>\n",
       "      <th></th>\n",
       "      <th></th>\n",
       "    </tr>\n",
       "  </thead>\n",
       "  <tbody>\n",
       "    <tr>\n",
       "      <th>Charged Off</th>\n",
       "      <td>5067.0</td>\n",
       "      <td>12285.726268</td>\n",
       "      <td>8046.182220</td>\n",
       "      <td>900.0</td>\n",
       "      <td>6000.0</td>\n",
       "      <td>10000.0</td>\n",
       "      <td>17000.0</td>\n",
       "      <td>35000.0</td>\n",
       "    </tr>\n",
       "    <tr>\n",
       "      <th>Fully Paid</th>\n",
       "      <td>31009.0</td>\n",
       "      <td>10917.830307</td>\n",
       "      <td>7165.659596</td>\n",
       "      <td>500.0</td>\n",
       "      <td>5400.0</td>\n",
       "      <td>9600.0</td>\n",
       "      <td>15000.0</td>\n",
       "      <td>35000.0</td>\n",
       "    </tr>\n",
       "  </tbody>\n",
       "</table>\n",
       "</div>"
      ],
      "text/plain": [
       "               count          mean          std    min     25%      50%  \\\n",
       "loan_status                                                               \n",
       "Charged Off   5067.0  12285.726268  8046.182220  900.0  6000.0  10000.0   \n",
       "Fully Paid   31009.0  10917.830307  7165.659596  500.0  5400.0   9600.0   \n",
       "\n",
       "                 75%      max  \n",
       "loan_status                    \n",
       "Charged Off  17000.0  35000.0  \n",
       "Fully Paid   15000.0  35000.0  "
      ]
     },
     "execution_count": 43,
     "metadata": {},
     "output_type": "execute_result"
    }
   ],
   "source": [
    "loan_df.groupby('loan_status')['loan_amnt'].describe()"
   ]
  },
  {
   "cell_type": "markdown",
   "id": "7675cf32",
   "metadata": {},
   "source": [
    "<h4> Observations:</h4>\n",
    "    <li>Overall, the loan amount distribution is sligthly right sided with mean greater than the median. Seventy five percent(75%)of the  loans granted are below 15000.</li>\n",
    "     <li>It is observed that there is a spike in loan amounts around each 5000 limit.</li>"
   ]
  },
  {
   "cell_type": "markdown",
   "id": "7663e0e4",
   "metadata": {},
   "source": [
    "Based on the above observations, lets create one more Categorical Variable with bin(limit) as 5000."
   ]
  },
  {
   "cell_type": "code",
   "execution_count": 44,
   "id": "3981689b",
   "metadata": {},
   "outputs": [],
   "source": [
    "def LoanStatusPlot(df, by, loanstatus='Charged Off'):\n",
    "    group = df.groupby(['loan_status',by])[by].count()\n",
    "    count = df.groupby(by)[by].count()\n",
    "    percentages = group.unstack() * 100 / count.T\n",
    "    ax = percentages.loc[loanstatus].plot.bar(color=sns.color_palette('pastel', 16))\n",
    "    ax.set_ylabel('% of loans ' + loanstatus)\n",
    "    plt.margins(0.2, 0.2)\n",
    "    plt.tight_layout()\n",
    "    return ax"
   ]
  },
  {
   "cell_type": "code",
   "execution_count": 45,
   "id": "72b6f43a",
   "metadata": {},
   "outputs": [
    {
     "data": {
      "text/plain": [
       "<AxesSubplot:xlabel='loan_amnt_bin', ylabel='% of loans Charged Off'>"
      ]
     },
     "execution_count": 45,
     "metadata": {},
     "output_type": "execute_result"
    },
    {
     "data": {
      "image/png": "[encoded data removed]",
      "text/plain": [
       "<Figure size 432x288 with 1 Axes>"
      ]
     },
     "metadata": {},
     "output_type": "display_data"
    }
   ],
   "source": [
    "loan_df['loan_amnt_bin'] = pd.cut(loan_df['loan_amnt'], \n",
    "                                      [x for x in range(0, 36000, 5000)], labels=[str(x)+'-'+str(x+5)+'k' for x in range (0, 35, 5)])\n",
    "LoanStatusPlot(loan_df, 'loan_amnt_bin')"
   ]
  },
  {
   "cell_type": "markdown",
   "id": "64bca5f4",
   "metadata": {},
   "source": [
    "<h4> Observations:</h4>\n",
    "The percentage of charged off loans increase with the loan amount range. Even though, most of the loans are below 20000 amount. The higher loans, carry significant risk of default."
   ]
  },
  {
   "cell_type": "markdown",
   "id": "11bb44fd",
   "metadata": {},
   "source": [
    "<b><h4>Variable: Grade</h4></b>\n",
    "<p>Lets define a function to plot loan_status across categorical variables. Compare the default rates across different loan grades.</p>"
   ]
  },
  {
   "cell_type": "code",
   "execution_count": 46,
   "id": "fb53886d",
   "metadata": {},
   "outputs": [],
   "source": [
    "def plot_cat(cat_var):\n",
    "    sns.barplot(x=cat_var, y='loan_status_val', data=loan_df)\n",
    "    plt.show()"
   ]
  },
  {
   "cell_type": "code",
   "execution_count": 47,
   "id": "b8c86b99",
   "metadata": {},
   "outputs": [
    {
     "data": {
      "image/png": "[encoded data removed]",
      "text/plain": [
       "<Figure size 432x288 with 1 Axes>"
      ]
     },
     "metadata": {},
     "output_type": "display_data"
    }
   ],
   "source": [
    "plot_cat('grade')"
   ]
  },
  {
   "cell_type": "markdown",
   "id": "f8b8bdc3",
   "metadata": {},
   "source": [
    "<b><h4>Variable: term</h4></b>"
   ]
  },
  {
   "cell_type": "code",
   "execution_count": 48,
   "id": "97326db7",
   "metadata": {},
   "outputs": [
    {
     "data": {
      "image/png": "[encoded data removed]",
      "text/plain": [
       "<Figure size 432x288 with 1 Axes>"
      ]
     },
     "metadata": {},
     "output_type": "display_data"
    }
   ],
   "source": [
    "plot_cat('term')"
   ]
  },
  {
   "cell_type": "markdown",
   "id": "0dc2475f",
   "metadata": {},
   "source": [
    "<h4>Observation</h4>\n",
    "Charged off bar is higher for the long term loans. It is risky to give higher loan amount with long term."
   ]
  },
  {
   "cell_type": "markdown",
   "id": "7b54d74a",
   "metadata": {},
   "source": [
    "<b><h4>Variable: sub_grade</h4></b>"
   ]
  },
  {
   "cell_type": "code",
   "execution_count": 49,
   "id": "c0d69518",
   "metadata": {},
   "outputs": [
    {
     "data": {
      "image/png": "[encoded data removed]",
      "text/plain": [
       "<Figure size 1152x432 with 1 Axes>"
      ]
     },
     "metadata": {},
     "output_type": "display_data"
    }
   ],
   "source": [
    "plt.figure(figsize=(16, 6))\n",
    "plot_cat('sub_grade')"
   ]
  },
  {
   "cell_type": "markdown",
   "id": "a8fb5aca",
   "metadata": {},
   "source": [
    "<h4>Observation</h4>\n",
    "As expected the defaults rate is lesser for A1 and the same is higher for F5. The defaulter rate increase as the sub grade goes down."
   ]
  },
  {
   "cell_type": "markdown",
   "id": "7d73d687",
   "metadata": {},
   "source": [
    "<b><h4>Variable: home_ownership</h4></b>"
   ]
  },
  {
   "cell_type": "code",
   "execution_count": 50,
   "id": "d1bc566c",
   "metadata": {},
   "outputs": [
    {
     "data": {
      "image/png": "[encoded data removed]",
      "text/plain": [
       "<Figure size 432x288 with 1 Axes>"
      ]
     },
     "metadata": {},
     "output_type": "display_data"
    }
   ],
   "source": [
    "plot_cat('home_ownership')"
   ]
  },
  {
   "cell_type": "markdown",
   "id": "0b427219",
   "metadata": {},
   "source": [
    "<h4>Observation</h4>\n",
    "The variable home_ownership did not make much differences in defaulter rate."
   ]
  },
  {
   "cell_type": "markdown",
   "id": "59916273",
   "metadata": {},
   "source": [
    "<b><h4>Variable: verification_status</h4></b>"
   ]
  },
  {
   "cell_type": "code",
   "execution_count": 51,
   "id": "83490be5",
   "metadata": {},
   "outputs": [
    {
     "data": {
      "image/png": "[encoded data removed]",
      "text/plain": [
       "<Figure size 432x288 with 1 Axes>"
      ]
     },
     "metadata": {},
     "output_type": "display_data"
    }
   ],
   "source": [
    "plot_cat('verification_status')"
   ]
  },
  {
   "cell_type": "markdown",
   "id": "c0d008ee",
   "metadata": {},
   "source": [
    "<h4>Observation</h4>\n",
    "Interestingly the loans with Verified status has more loan defaults than Not Verified."
   ]
  },
  {
   "cell_type": "markdown",
   "id": "29c90515",
   "metadata": {},
   "source": [
    "<b><h4>Variable: purpose</h4></b>"
   ]
  },
  {
   "cell_type": "code",
   "execution_count": 52,
   "id": "e423a5ac",
   "metadata": {},
   "outputs": [
    {
     "data": {
      "image/png": "[encoded data removed]",
      "text/plain": [
       "<Figure size 720x432 with 1 Axes>"
      ]
     },
     "metadata": {},
     "output_type": "display_data"
    }
   ],
   "source": [
    "plt.figure(figsize=(10, 6))\n",
    "# Align the labels on X-axis for clear label names\n",
    "plt.xticks(rotation=90) \n",
    "plot_cat('purpose')"
   ]
  },
  {
   "cell_type": "markdown",
   "id": "98a6df93",
   "metadata": {},
   "source": [
    "<h4>Observation</h4>\n",
    "Small business has more loan defaults than the renewable energy and education loans."
   ]
  },
  {
   "cell_type": "markdown",
   "id": "41ea07e3",
   "metadata": {},
   "source": [
    "Let's see the distribution of loans across years and on different months."
   ]
  },
  {
   "cell_type": "code",
   "execution_count": 53,
   "id": "7de6a88e",
   "metadata": {},
   "outputs": [],
   "source": [
    "loan_df['issue_d'] = pd.to_datetime(loan_df['issue_d'], format = \"%Y-%m-%d\")\n",
    "loan_df['issue_month'] = loan_df['issue_d'].apply(lambda x: x.month)\n",
    "loan_df['issue_year'] = loan_df['issue_d'].apply(lambda x: x.year)"
   ]
  },
  {
   "cell_type": "code",
   "execution_count": 54,
   "id": "53af1d30",
   "metadata": {},
   "outputs": [
    {
     "data": {
      "text/plain": [
       "issue_year\n",
       "2007      227\n",
       "2008     1485\n",
       "2009     4424\n",
       "2010    10821\n",
       "2011    19119\n",
       "Name: issue_year, dtype: int64"
      ]
     },
     "execution_count": 54,
     "metadata": {},
     "output_type": "execute_result"
    }
   ],
   "source": [
    "loan_df.groupby('issue_year').issue_year.count()"
   ]
  },
  {
   "cell_type": "code",
   "execution_count": 55,
   "id": "b02f6aac",
   "metadata": {},
   "outputs": [
    {
     "data": {
      "image/png": "[encoded data removed]",
      "text/plain": [
       "<Figure size 432x288 with 1 Axes>"
      ]
     },
     "metadata": {},
     "output_type": "display_data"
    }
   ],
   "source": [
    "plot_cat('issue_year')"
   ]
  },
  {
   "cell_type": "markdown",
   "id": "f6847afd",
   "metadata": {},
   "source": [
    "<h4>Observation</h4>\n",
    "<li>Loans distribution count has increased steadily across years. </li>\n",
    "<li>The default rate had continuously declined till 2010, and then suddenly increased in 2011.</li>"
   ]
  },
  {
   "cell_type": "code",
   "execution_count": 56,
   "id": "fe73ec9c",
   "metadata": {},
   "outputs": [
    {
     "data": {
      "text/plain": [
       "issue_month\n",
       "1     2209\n",
       "2     2185\n",
       "3     2511\n",
       "4     2673\n",
       "5     2750\n",
       "6     2980\n",
       "7     3145\n",
       "8     3221\n",
       "9     3299\n",
       "10    3483\n",
       "11    3719\n",
       "12    3901\n",
       "Name: issue_month, dtype: int64"
      ]
     },
     "execution_count": 56,
     "metadata": {},
     "output_type": "execute_result"
    }
   ],
   "source": [
    "loan_df.groupby('issue_month').issue_month.count()"
   ]
  },
  {
   "cell_type": "code",
   "execution_count": 57,
   "id": "04e18b27",
   "metadata": {},
   "outputs": [
    {
     "data": {
      "image/png": "[encoded data removed]",
      "text/plain": [
       "<Figure size 432x288 with 1 Axes>"
      ]
     },
     "metadata": {},
     "output_type": "display_data"
    }
   ],
   "source": [
    "plot_cat('issue_month')"
   ]
  },
  {
   "cell_type": "markdown",
   "id": "ab8c8c73",
   "metadata": {},
   "source": [
    "<h4>Observation</h4>\n",
    "<li>More loans has distributed in the second half of the year.</li>\n",
    "<li>When compared to default staus there is no much difference</li>"
   ]
  },
  {
   "cell_type": "markdown",
   "id": "7f1dd781",
   "metadata": {},
   "source": [
    "<h4>Variable int_rate</h4>\n",
    "Let's see the impact of interest rate on loan defaults. Let's convert interest rate into three different categories(<b>low, medium</b> and <b>high</b>), it will be easy to plot it."
   ]
  },
  {
   "cell_type": "code",
   "execution_count": 58,
   "id": "3857b3ff",
   "metadata": {},
   "outputs": [],
   "source": [
    "### \n",
    "def int_rate(n):\n",
    "    if n <= 10:\n",
    "        return 'low'\n",
    "    elif n > 10 and n <=15:\n",
    "        return 'medium'\n",
    "    else:\n",
    "        return 'high'\n",
    "    \n",
    "loan_df['int_rate_cat'] = loan_df['int_rate'].apply(lambda x: int_rate(x))"
   ]
  },
  {
   "cell_type": "code",
   "execution_count": 59,
   "id": "65b8e736",
   "metadata": {},
   "outputs": [
    {
     "data": {
      "image/png": "[encoded data removed]",
      "text/plain": [
       "<Figure size 432x288 with 1 Axes>"
      ]
     },
     "metadata": {},
     "output_type": "display_data"
    }
   ],
   "source": [
    "plot_cat('int_rate_cat')"
   ]
  },
  {
   "cell_type": "markdown",
   "id": "acc787dc",
   "metadata": {},
   "source": [
    "<h4>Observation</h4>\n",
    "<li>From the above chart, it is evident that the loan default increases when the interest rate is high.</li>"
   ]
  },
  {
   "cell_type": "markdown",
   "id": "962c795b",
   "metadata": {},
   "source": [
    "<h4>Variable: dti (debit income ratio)</h4>\n",
    "Let's observe if debit to income ratio has impact on loan default."
   ]
  },
  {
   "cell_type": "code",
   "execution_count": 60,
   "id": "1138aac3",
   "metadata": {},
   "outputs": [],
   "source": [
    "def dti(n):\n",
    "    if n <= 10:\n",
    "        return 'low'\n",
    "    elif n > 10 and n <=20:\n",
    "        return 'medium'\n",
    "    else:\n",
    "        return 'high'\n",
    "    \n",
    "loan_df['dti_cat'] = loan_df['dti'].apply(lambda x: dti(x))"
   ]
  },
  {
   "cell_type": "code",
   "execution_count": 61,
   "id": "bf577bc2",
   "metadata": {},
   "outputs": [
    {
     "data": {
      "image/png": "[encoded data removed]",
      "text/plain": [
       "<Figure size 432x288 with 1 Axes>"
      ]
     },
     "metadata": {},
     "output_type": "display_data"
    }
   ],
   "source": [
    "plot_cat('dti_cat')"
   ]
  },
  {
   "cell_type": "markdown",
   "id": "bf47efca",
   "metadata": {},
   "source": [
    "<h4>Observation</h4>\n",
    "As expected, high dti resulted in higher default rates."
   ]
  },
  {
   "cell_type": "markdown",
   "id": "c370927a",
   "metadata": {},
   "source": [
    "<h4>Variable: installment</h4>\n",
    "Let's comparing default rates across installment. Before that convert the installment amount into four different categories.\n",
    "<li>low</li>\n",
    "<li>medium</li>\n",
    "<li>high</li>\n",
    "<li>very high</li>"
   ]
  },
  {
   "cell_type": "code",
   "execution_count": 65,
   "id": "30493924",
   "metadata": {},
   "outputs": [],
   "source": [
    "def installment(n):\n",
    "    if n <= 200:\n",
    "        return 'low'\n",
    "    elif n > 200 and n <=400:\n",
    "        return 'medium'\n",
    "    elif n > 400 and n <=600:\n",
    "        return 'high'\n",
    "    else:\n",
    "        return 'very high'\n",
    "    \n",
    "loan_df['installment_cat'] = loan_df['installment'].apply(lambda x: installment(float(x)))"
   ]
  },
  {
   "cell_type": "code",
   "execution_count": 66,
   "id": "3a505776",
   "metadata": {},
   "outputs": [
    {
     "data": {
      "image/png": "[encoded data removed]",
      "text/plain": [
       "<Figure size 432x288 with 1 Axes>"
      ]
     },
     "metadata": {},
     "output_type": "display_data"
    }
   ],
   "source": [
    "plot_cat('installment_cat')"
   ]
  },
  {
   "cell_type": "markdown",
   "id": "f6868f54",
   "metadata": {},
   "source": [
    "<h4>Observation</h4>\n",
    "The default rate increase as the installment amount goes up."
   ]
  },
  {
   "cell_type": "markdown",
   "id": "2e1d4ad1",
   "metadata": {},
   "source": [
    "<h4>Variable: annual_inc</h4>\n",
    "The annual income should have impact on the loan default. Before that convert the annual income into four different categories.\n",
    "<li>low</li>\n",
    "<li>medium</li>\n",
    "<li>high</li>\n",
    "<li>very high</li>"
   ]
  },
  {
   "cell_type": "code",
   "execution_count": 72,
   "id": "4bcbf52e",
   "metadata": {},
   "outputs": [],
   "source": [
    "def annual_income(n):\n",
    "    if n <= 50000:\n",
    "        return 'low'\n",
    "    elif n > 50000 and n <=100000:\n",
    "        return 'medium'\n",
    "    elif n > 100000 and n <=150000:\n",
    "        return 'high'\n",
    "    else:\n",
    "        return 'very high'\n",
    "\n",
    "loan_df['annual_inc_cat'] = loan_df['annual_inc'].apply(lambda x: annual_income(float(x)))"
   ]
  },
  {
   "cell_type": "code",
   "execution_count": 73,
   "id": "44ec66bb",
   "metadata": {},
   "outputs": [
    {
     "data": {
      "image/png": "[encoded data removed]",
      "text/plain": [
       "<Figure size 432x288 with 1 Axes>"
      ]
     },
     "metadata": {},
     "output_type": "display_data"
    }
   ],
   "source": [
    "plot_cat('annual_inc_cat')"
   ]
  },
  {
   "cell_type": "markdown",
   "id": "24abb0a0",
   "metadata": {},
   "source": [
    "<h4>Observation</h4>\n",
    "The charged off rate is high when the annual income is low."
   ]
  },
  {
   "cell_type": "markdown",
   "id": "7d1923de",
   "metadata": {},
   "source": [
    "<h3 style = \"text-align:center\">Segmented Univariate Analysis</h3>\n",
    "    \n",
    "So far we have seen different variables such as annual income, purpose of loan, grade, debit to income ratio and interest rate affected the loan defaults.\n",
    "\n",
    "In the credit industry, one of the most important factors affecting default is the purpose of the loan - home loans perform differently than credit cards, credit cards are very different from debt condolidation loans etc.\n",
    "\n",
    "Let's again have a look at the default rates across the purpose of the loan."
   ]
  },
  {
   "cell_type": "code",
   "execution_count": 74,
   "id": "0f65beff",
   "metadata": {},
   "outputs": [
    {
     "data": {
      "image/png": "[encoded data removed]",
      "text/plain": [
       "<Figure size 720x432 with 1 Axes>"
      ]
     },
     "metadata": {},
     "output_type": "display_data"
    }
   ],
   "source": [
    "plt.figure(figsize=(10, 6))\n",
    "plt.xticks(rotation=90) \n",
    "plot_cat('purpose')"
   ]
  },
  {
   "cell_type": "markdown",
   "id": "b492607e",
   "metadata": {},
   "source": [
    "For further analysis, we will segment the loan applications across the purpose of the loan, since that is a variable affecting many other variables such as the type of applicant, interest rate, income, and finally the default rate.\n",
    "\n",
    "First let's see the number of loans in each type."
   ]
  },
  {
   "cell_type": "code",
   "execution_count": 77,
   "id": "c2ddb2e1",
   "metadata": {},
   "outputs": [
    {
     "data": {
      "image/png": "[encoded data removed]",
      "text/plain": [
       "<Figure size 720x432 with 1 Axes>"
      ]
     },
     "metadata": {},
     "output_type": "display_data"
    }
   ],
   "source": [
    "plt.figure(figsize=(10, 6))\n",
    "plt.xticks(rotation=90)\n",
    "sns.countplot(x='purpose', data=loan_df)\n",
    "plt.show()"
   ]
  },
  {
   "cell_type": "markdown",
   "id": "383418bc",
   "metadata": {},
   "source": [
    "Let's analyse the top 4 types of loans based on purpose: debt consolidation, credit card, home improvement and major purchase."
   ]
  },
  {
   "cell_type": "code",
   "execution_count": 78,
   "id": "a36856b6",
   "metadata": {},
   "outputs": [
    {
     "data": {
      "text/plain": [
       "debt_consolidation    17210\n",
       "credit_card            4723\n",
       "home_improvement       2661\n",
       "major_purchase         1994\n",
       "Name: purpose, dtype: int64"
      ]
     },
     "execution_count": 78,
     "metadata": {},
     "output_type": "execute_result"
    }
   ],
   "source": [
    "major_purposes = [\"credit_card\",\"debt_consolidation\",\"home_improvement\",\"major_purchase\"]\n",
    "loan_df = loan_df[loan_df['purpose'].isin(major_purposes)]\n",
    "loan_df['purpose'].value_counts()"
   ]
  },
  {
   "cell_type": "markdown",
   "id": "25d87914",
   "metadata": {},
   "source": [
    "Plotting number of loans by purpose"
   ]
  },
  {
   "cell_type": "code",
   "execution_count": 80,
   "id": "2e0d569b",
   "metadata": {},
   "outputs": [
    {
     "data": {
      "image/png": "[encoded data removed]",
      "text/plain": [
       "<Figure size 432x288 with 1 Axes>"
      ]
     },
     "metadata": {},
     "output_type": "display_data"
    }
   ],
   "source": [
    "sns.countplot(x=loan_df['purpose'])\n",
    "plt.xticks(rotation=30)\n",
    "plt.show()"
   ]
  },
  {
   "cell_type": "markdown",
   "id": "af3be62e",
   "metadata": {},
   "source": [
    "Now let's compare the default rates across two types of categorical variables, purpose of loan and another categorical variable."
   ]
  },
  {
   "cell_type": "code",
   "execution_count": 81,
   "id": "50ac074c",
   "metadata": {},
   "outputs": [
    {
     "data": {
      "image/png": "[encoded data removed]",
      "text/plain": [
       "<Figure size 720x432 with 1 Axes>"
      ]
     },
     "metadata": {},
     "output_type": "display_data"
    }
   ],
   "source": [
    "plt.figure(figsize=[10, 6])\n",
    "sns.barplot(x='term', y=\"loan_status_val\", hue='purpose', data=loan_df)\n",
    "plt.show()"
   ]
  },
  {
   "cell_type": "markdown",
   "id": "74646685",
   "metadata": {},
   "source": [
    "<b>Categorical Variable: term</b>"
   ]
  },
  {
   "cell_type": "code",
   "execution_count": 85,
   "id": "99bd75fc",
   "metadata": {},
   "outputs": [
    {
     "data": {
      "image/png": "[encoded data removed]",
      "text/plain": [
       "<Figure size 864x576 with 1 Axes>"
      ]
     },
     "metadata": {},
     "output_type": "display_data"
    }
   ],
   "source": [
    "def plot_segmented(cat_var):\n",
    "    plt.figure(figsize=(12, 8))\n",
    "    sns.barplot(x=cat_var, y='loan_status_val', hue='purpose', data=loan_df)\n",
    "    plt.show()\n",
    "\n",
    "    \n",
    "plot_segmented('term')"
   ]
  },
  {
   "cell_type": "markdown",
   "id": "5e935d99",
   "metadata": {},
   "source": [
    "<b>Categorical Variable: grade</b>"
   ]
  },
  {
   "cell_type": "code",
   "execution_count": 86,
   "id": "fac43478",
   "metadata": {},
   "outputs": [
    {
     "data": {
      "image/png": "[encoded data removed]",
      "text/plain": [
       "<Figure size 864x576 with 1 Axes>"
      ]
     },
     "metadata": {},
     "output_type": "display_data"
    }
   ],
   "source": [
    "plot_segmented('grade')"
   ]
  },
  {
   "cell_type": "markdown",
   "id": "eced7677",
   "metadata": {},
   "source": [
    "<b>Categorical Variable: home_ownership</b>"
   ]
  },
  {
   "cell_type": "code",
   "execution_count": 87,
   "id": "243c645b",
   "metadata": {},
   "outputs": [
    {
     "data": {
      "image/png": "[encoded data removed]",
      "text/plain": [
       "<Figure size 864x576 with 1 Axes>"
      ]
     },
     "metadata": {},
     "output_type": "display_data"
    }
   ],
   "source": [
    "plot_segmented('home_ownership')"
   ]
  },
  {
   "cell_type": "markdown",
   "id": "5c916e8b",
   "metadata": {},
   "source": [
    "In general, debt consolidation loans have the highest default rates. Lets compare across other categories as well.\n",
    "\n",
    "\n",
    "<b>Categorical Variable: issue_year</b>"
   ]
  },
  {
   "cell_type": "code",
   "execution_count": 95,
   "id": "99d1b0a6",
   "metadata": {},
   "outputs": [
    {
     "data": {
      "image/png": "[encoded data removed]",
      "text/plain": [
       "<Figure size 864x576 with 1 Axes>"
      ]
     },
     "metadata": {},
     "output_type": "display_data"
    }
   ],
   "source": [
    "plot_segmented('issue_year')"
   ]
  },
  {
   "cell_type": "markdown",
   "id": "ef4d1c95",
   "metadata": {},
   "source": [
    "<b>Categorical Variable: loan_amnt_bin</b>\n",
    "<p>Here loan_amnt_cat variable will be used for plotting</p>"
   ]
  },
  {
   "cell_type": "code",
   "execution_count": 90,
   "id": "90e2815d",
   "metadata": {},
   "outputs": [
    {
     "data": {
      "image/png": "[encoded data removed]",
      "text/plain": [
       "<Figure size 864x576 with 1 Axes>"
      ]
     },
     "metadata": {},
     "output_type": "display_data"
    }
   ],
   "source": [
    "plot_segmented('loan_amnt_bin')"
   ]
  },
  {
   "cell_type": "markdown",
   "id": "ea07d7bc",
   "metadata": {},
   "source": [
    "There is no much different, same trend across loan purposes\n",
    "\n",
    "<b>Categorical Variable: int_rate_cat</b>"
   ]
  },
  {
   "cell_type": "code",
   "execution_count": 91,
   "id": "b5971507",
   "metadata": {},
   "outputs": [
    {
     "data": {
      "image/png": "[encoded data removed]",
      "text/plain": [
       "<Figure size 864x576 with 1 Axes>"
      ]
     },
     "metadata": {},
     "output_type": "display_data"
    }
   ],
   "source": [
    "plot_segmented('int_rate_cat')"
   ]
  },
  {
   "cell_type": "markdown",
   "id": "37874a05",
   "metadata": {},
   "source": [
    "<b>Categorical Variable: installment_cat</b>"
   ]
  },
  {
   "cell_type": "code",
   "execution_count": 92,
   "id": "22bba543",
   "metadata": {},
   "outputs": [
    {
     "data": {
      "image/png": "[encoded data removed]",
      "text/plain": [
       "<Figure size 864x576 with 1 Axes>"
      ]
     },
     "metadata": {},
     "output_type": "display_data"
    }
   ],
   "source": [
    "plot_segmented('installment_cat')"
   ]
  },
  {
   "cell_type": "markdown",
   "id": "eca556f1",
   "metadata": {},
   "source": [
    "<b>Categorical Variable: dti_cat</b>"
   ]
  },
  {
   "cell_type": "code",
   "execution_count": 93,
   "id": "bab37b78",
   "metadata": {},
   "outputs": [
    {
     "data": {
      "image/png": "[encoded data removed]",
      "text/plain": [
       "<Figure size 864x576 with 1 Axes>"
      ]
     },
     "metadata": {},
     "output_type": "display_data"
    }
   ],
   "source": [
    "plot_segmented('dti_cat')"
   ]
  },
  {
   "cell_type": "markdown",
   "id": "9eddc83b",
   "metadata": {},
   "source": [
    "<b>Categorical Variable: annual_inc_cat</b>"
   ]
  },
  {
   "cell_type": "code",
   "execution_count": 94,
   "id": "10be9ded",
   "metadata": {},
   "outputs": [
    {
     "data": {
      "image/png": "[encoded data removed]",
      "text/plain": [
       "<Figure size 864x576 with 1 Axes>"
      ]
     },
     "metadata": {},
     "output_type": "display_data"
    }
   ],
   "source": [
    "plot_segmented('annual_inc_cat')"
   ]
  },
  {
   "cell_type": "markdown",
   "id": "0f46591b",
   "metadata": {},
   "source": [
    "<h3 style = \"text-align:center\">Bivariate Analysis</h3>\n",
    "<p>In this part of analysis, lets try to analyze the loan status against some important columns which might have played and important role in loan defaults. Lets try to find proportion of loan defaults in some categories. To calculate the proportion of charged off loans, will do these below steps</p>"
   ]
  },
  {
   "cell_type": "markdown",
   "id": "dab924f8",
   "metadata": {},
   "source": [
    "<b>Income range category vs Loan Status</b>"
   ]
  },
  {
   "cell_type": "code",
   "execution_count": 105,
   "id": "f876f462",
   "metadata": {},
   "outputs": [
    {
     "data": {
      "text/html": [
       "<div>\n",
       "<style scoped>\n",
       "    .dataframe tbody tr th:only-of-type {\n",
       "        vertical-align: middle;\n",
       "    }\n",
       "\n",
       "    .dataframe tbody tr th {\n",
       "        vertical-align: top;\n",
       "    }\n",
       "\n",
       "    .dataframe thead th {\n",
       "        text-align: right;\n",
       "    }\n",
       "</style>\n",
       "<table border=\"1\" class=\"dataframe\">\n",
       "  <thead>\n",
       "    <tr style=\"text-align: right;\">\n",
       "      <th>loan_status</th>\n",
       "      <th>annual_inc_cat</th>\n",
       "      <th>Charged Off</th>\n",
       "      <th>Fully Paid</th>\n",
       "      <th>Total</th>\n",
       "      <th>Chargedoff_Proportion</th>\n",
       "    </tr>\n",
       "  </thead>\n",
       "  <tbody>\n",
       "    <tr>\n",
       "      <th>1</th>\n",
       "      <td>low</td>\n",
       "      <td>1544</td>\n",
       "      <td>8419</td>\n",
       "      <td>9963</td>\n",
       "      <td>0.154973</td>\n",
       "    </tr>\n",
       "    <tr>\n",
       "      <th>2</th>\n",
       "      <td>medium</td>\n",
       "      <td>1627</td>\n",
       "      <td>11141</td>\n",
       "      <td>12768</td>\n",
       "      <td>0.127428</td>\n",
       "    </tr>\n",
       "    <tr>\n",
       "      <th>3</th>\n",
       "      <td>very high</td>\n",
       "      <td>99</td>\n",
       "      <td>899</td>\n",
       "      <td>998</td>\n",
       "      <td>0.099198</td>\n",
       "    </tr>\n",
       "    <tr>\n",
       "      <th>0</th>\n",
       "      <td>high</td>\n",
       "      <td>278</td>\n",
       "      <td>2581</td>\n",
       "      <td>2859</td>\n",
       "      <td>0.097237</td>\n",
       "    </tr>\n",
       "  </tbody>\n",
       "</table>\n",
       "</div>"
      ],
      "text/plain": [
       "loan_status annual_inc_cat  Charged Off  Fully Paid  Total  \\\n",
       "1                      low         1544        8419   9963   \n",
       "2                   medium         1627       11141  12768   \n",
       "3                very high           99         899    998   \n",
       "0                     high          278        2581   2859   \n",
       "\n",
       "loan_status  Chargedoff_Proportion  \n",
       "1                         0.154973  \n",
       "2                         0.127428  \n",
       "3                         0.099198  \n",
       "0                         0.097237  "
      ]
     },
     "execution_count": 105,
     "metadata": {},
     "output_type": "execute_result"
    }
   ],
   "source": [
    "income_range_vs_loan = loan_df.groupby(['annual_inc_cat', 'loan_status']).loan_status.count().unstack().fillna(0).reset_index()\n",
    "income_range_vs_loan['Total'] = income_range_vs_loan['Charged Off'] + income_range_vs_loan['Fully Paid'] \n",
    "income_range_vs_loan['Chargedoff_Proportion'] = income_range_vs_loan['Charged Off'] / income_range_vs_loan['Total']\n",
    "income_range_vs_loan.sort_values('Chargedoff_Proportion', ascending=False)"
   ]
  },
  {
   "cell_type": "markdown",
   "id": "38f55d7f",
   "metadata": {},
   "source": [
    "<b>Observations:</b>\n",
    "<li>High income range  has less chances of loan defaults.</li>\n",
    "<li>Low income range has high chances of loan default.</li>\n",
    "<li>Therefore, the observation is that, with increase in annual income loan default proportion got decreased.</li>\n",
    "\n",
    "Lets plot a chart to for the above data.\n",
    "\n"
   ]
  },
  {
   "cell_type": "code",
   "execution_count": 109,
   "id": "0f6523d4",
   "metadata": {},
   "outputs": [
    {
     "data": {
      "image/png": "[encoded data removed]",
      "text/plain": [
       "<Figure size 864x576 with 1 Axes>"
      ]
     },
     "metadata": {},
     "output_type": "display_data"
    }
   ],
   "source": [
    "fig, ax1 = plt.subplots(figsize=(12, 8),facecolor='b')\n",
    "ax1.set_title('Annual Income vs Chargedoff Proportion',fontsize=15,color = 'w')\n",
    "ax1=sns.barplot(x='annual_inc_cat', y='Chargedoff_Proportion', data=income_range_vs_loan)\n",
    "ax1.set_ylabel('Chargedoff Proportion',fontsize=14,color = 'w')\n",
    "ax1.set_xlabel('Annual Income',fontsize=14,color='w')\n",
    "plt.show()"
   ]
  },
  {
   "cell_type": "markdown",
   "id": "9f7090d1",
   "metadata": {},
   "source": [
    "<b>Purpose vs Loan status</b>"
   ]
  },
  {
   "cell_type": "code",
   "execution_count": 112,
   "id": "c4fc1a4e",
   "metadata": {},
   "outputs": [
    {
     "data": {
      "text/html": [
       "<div>\n",
       "<style scoped>\n",
       "    .dataframe tbody tr th:only-of-type {\n",
       "        vertical-align: middle;\n",
       "    }\n",
       "\n",
       "    .dataframe tbody tr th {\n",
       "        vertical-align: top;\n",
       "    }\n",
       "\n",
       "    .dataframe thead th {\n",
       "        text-align: right;\n",
       "    }\n",
       "</style>\n",
       "<table border=\"1\" class=\"dataframe\">\n",
       "  <thead>\n",
       "    <tr style=\"text-align: right;\">\n",
       "      <th>loan_status</th>\n",
       "      <th>purpose</th>\n",
       "      <th>Charged Off</th>\n",
       "      <th>Current</th>\n",
       "      <th>Fully Paid</th>\n",
       "      <th>Total</th>\n",
       "      <th>Chargedoff_Proportion</th>\n",
       "    </tr>\n",
       "  </thead>\n",
       "  <tbody>\n",
       "    <tr>\n",
       "      <th>11</th>\n",
       "      <td>small_business</td>\n",
       "      <td>372.0</td>\n",
       "      <td>63.0</td>\n",
       "      <td>1031.0</td>\n",
       "      <td>1403.0</td>\n",
       "      <td>0.265146</td>\n",
       "    </tr>\n",
       "    <tr>\n",
       "      <th>10</th>\n",
       "      <td>renewable_energy</td>\n",
       "      <td>15.0</td>\n",
       "      <td>1.0</td>\n",
       "      <td>72.0</td>\n",
       "      <td>87.0</td>\n",
       "      <td>0.172414</td>\n",
       "    </tr>\n",
       "    <tr>\n",
       "      <th>3</th>\n",
       "      <td>educational</td>\n",
       "      <td>48.0</td>\n",
       "      <td>0.0</td>\n",
       "      <td>244.0</td>\n",
       "      <td>292.0</td>\n",
       "      <td>0.164384</td>\n",
       "    </tr>\n",
       "    <tr>\n",
       "      <th>9</th>\n",
       "      <td>other</td>\n",
       "      <td>565.0</td>\n",
       "      <td>113.0</td>\n",
       "      <td>3006.0</td>\n",
       "      <td>3571.0</td>\n",
       "      <td>0.158219</td>\n",
       "    </tr>\n",
       "    <tr>\n",
       "      <th>5</th>\n",
       "      <td>house</td>\n",
       "      <td>53.0</td>\n",
       "      <td>13.0</td>\n",
       "      <td>282.0</td>\n",
       "      <td>335.0</td>\n",
       "      <td>0.158209</td>\n",
       "    </tr>\n",
       "    <tr>\n",
       "      <th>8</th>\n",
       "      <td>moving</td>\n",
       "      <td>83.0</td>\n",
       "      <td>6.0</td>\n",
       "      <td>451.0</td>\n",
       "      <td>534.0</td>\n",
       "      <td>0.155431</td>\n",
       "    </tr>\n",
       "    <tr>\n",
       "      <th>7</th>\n",
       "      <td>medical</td>\n",
       "      <td>96.0</td>\n",
       "      <td>12.0</td>\n",
       "      <td>536.0</td>\n",
       "      <td>632.0</td>\n",
       "      <td>0.151899</td>\n",
       "    </tr>\n",
       "    <tr>\n",
       "      <th>2</th>\n",
       "      <td>debt_consolidation</td>\n",
       "      <td>2561.0</td>\n",
       "      <td>560.0</td>\n",
       "      <td>14649.0</td>\n",
       "      <td>17210.0</td>\n",
       "      <td>0.148809</td>\n",
       "    </tr>\n",
       "    <tr>\n",
       "      <th>12</th>\n",
       "      <td>vacation</td>\n",
       "      <td>49.0</td>\n",
       "      <td>4.0</td>\n",
       "      <td>288.0</td>\n",
       "      <td>337.0</td>\n",
       "      <td>0.145401</td>\n",
       "    </tr>\n",
       "    <tr>\n",
       "      <th>4</th>\n",
       "      <td>home_improvement</td>\n",
       "      <td>305.0</td>\n",
       "      <td>91.0</td>\n",
       "      <td>2356.0</td>\n",
       "      <td>2661.0</td>\n",
       "      <td>0.114619</td>\n",
       "    </tr>\n",
       "    <tr>\n",
       "      <th>0</th>\n",
       "      <td>car</td>\n",
       "      <td>152.0</td>\n",
       "      <td>48.0</td>\n",
       "      <td>1261.0</td>\n",
       "      <td>1413.0</td>\n",
       "      <td>0.107573</td>\n",
       "    </tr>\n",
       "    <tr>\n",
       "      <th>1</th>\n",
       "      <td>credit_card</td>\n",
       "      <td>488.0</td>\n",
       "      <td>100.0</td>\n",
       "      <td>4235.0</td>\n",
       "      <td>4723.0</td>\n",
       "      <td>0.103324</td>\n",
       "    </tr>\n",
       "    <tr>\n",
       "      <th>6</th>\n",
       "      <td>major_purchase</td>\n",
       "      <td>194.0</td>\n",
       "      <td>35.0</td>\n",
       "      <td>1800.0</td>\n",
       "      <td>1994.0</td>\n",
       "      <td>0.097292</td>\n",
       "    </tr>\n",
       "    <tr>\n",
       "      <th>13</th>\n",
       "      <td>wedding</td>\n",
       "      <td>86.0</td>\n",
       "      <td>21.0</td>\n",
       "      <td>798.0</td>\n",
       "      <td>884.0</td>\n",
       "      <td>0.097285</td>\n",
       "    </tr>\n",
       "  </tbody>\n",
       "</table>\n",
       "</div>"
      ],
      "text/plain": [
       "loan_status             purpose  Charged Off  Current  Fully Paid    Total  \\\n",
       "11               small_business        372.0     63.0      1031.0   1403.0   \n",
       "10             renewable_energy         15.0      1.0        72.0     87.0   \n",
       "3                   educational         48.0      0.0       244.0    292.0   \n",
       "9                         other        565.0    113.0      3006.0   3571.0   \n",
       "5                         house         53.0     13.0       282.0    335.0   \n",
       "8                        moving         83.0      6.0       451.0    534.0   \n",
       "7                       medical         96.0     12.0       536.0    632.0   \n",
       "2            debt_consolidation       2561.0    560.0     14649.0  17210.0   \n",
       "12                     vacation         49.0      4.0       288.0    337.0   \n",
       "4              home_improvement        305.0     91.0      2356.0   2661.0   \n",
       "0                           car        152.0     48.0      1261.0   1413.0   \n",
       "1                   credit_card        488.0    100.0      4235.0   4723.0   \n",
       "6                major_purchase        194.0     35.0      1800.0   1994.0   \n",
       "13                      wedding         86.0     21.0       798.0    884.0   \n",
       "\n",
       "loan_status  Chargedoff_Proportion  \n",
       "11                        0.265146  \n",
       "10                        0.172414  \n",
       "3                         0.164384  \n",
       "9                         0.158219  \n",
       "5                         0.158209  \n",
       "8                         0.155431  \n",
       "7                         0.151899  \n",
       "2                         0.148809  \n",
       "12                        0.145401  \n",
       "4                         0.114619  \n",
       "0                         0.107573  \n",
       "1                         0.103324  \n",
       "6                         0.097292  \n",
       "13                        0.097285  "
      ]
     },
     "execution_count": 112,
     "metadata": {},
     "output_type": "execute_result"
    }
   ],
   "source": [
    "purpose_vs_loan = df.groupby(['purpose', 'loan_status']).loan_status.count().unstack().fillna(0).reset_index()\n",
    "purpose_vs_loan['Total'] = purpose_vs_loan['Charged Off'] + purpose_vs_loan['Fully Paid'] \n",
    "purpose_vs_loan['Chargedoff_Proportion'] = purpose_vs_loan['Charged Off'] / purpose_vs_loan['Total']\n",
    "purpose_vs_loan.sort_values('Chargedoff_Proportion', ascending=False)"
   ]
  },
  {
   "cell_type": "markdown",
   "id": "340fc09a",
   "metadata": {},
   "source": [
    "<b>Observations:</b>\n",
    "<li>Renewable_energy where loan default proportion is higher when compare to other categories.</li>\n",
    "<li>small_business applicants have high chances of getting loan defaults.</li>"
   ]
  },
  {
   "cell_type": "code",
   "execution_count": 119,
   "id": "357d916b",
   "metadata": {},
   "outputs": [
    {
     "data": {
      "image/png": "[encoded data removed]",
      "text/plain": [
       "<Figure size 864x576 with 1 Axes>"
      ]
     },
     "metadata": {},
     "output_type": "display_data"
    }
   ],
   "source": [
    "fig, ax1 = plt.subplots(figsize=(12, 8),facecolor='b')\n",
    "ax1.set_title('Purpose vs Chargedoff Proportion',fontsize=15,color = 'w')\n",
    "ax1=sns.barplot(x='purpose', y='Chargedoff_Proportion', data=purpose_vs_loan)\n",
    "ax1.set_ylabel('Chargedoff Proportion',fontsize=14,color = 'w')\n",
    "ax1.set_xlabel('Purpose',fontsize=14,color='w')\n",
    "plt.xticks(rotation=60) \n",
    "plt.show()"
   ]
  },
  {
   "cell_type": "markdown",
   "id": "9dcbbc46",
   "metadata": {},
   "source": [
    "<b>Grade vs Loan Status</b>"
   ]
  },
  {
   "cell_type": "code",
   "execution_count": 116,
   "id": "583e2cf5",
   "metadata": {},
   "outputs": [
    {
     "data": {
      "text/html": [
       "<div>\n",
       "<style scoped>\n",
       "    .dataframe tbody tr th:only-of-type {\n",
       "        vertical-align: middle;\n",
       "    }\n",
       "\n",
       "    .dataframe tbody tr th {\n",
       "        vertical-align: top;\n",
       "    }\n",
       "\n",
       "    .dataframe thead th {\n",
       "        text-align: right;\n",
       "    }\n",
       "</style>\n",
       "<table border=\"1\" class=\"dataframe\">\n",
       "  <thead>\n",
       "    <tr style=\"text-align: right;\">\n",
       "      <th>loan_status</th>\n",
       "      <th>grade</th>\n",
       "      <th>Charged Off</th>\n",
       "      <th>Fully Paid</th>\n",
       "      <th>Total</th>\n",
       "      <th>Chargedoff_Proportion</th>\n",
       "    </tr>\n",
       "  </thead>\n",
       "  <tbody>\n",
       "    <tr>\n",
       "      <th>5</th>\n",
       "      <td>F</td>\n",
       "      <td>225</td>\n",
       "      <td>481</td>\n",
       "      <td>706</td>\n",
       "      <td>0.318697</td>\n",
       "    </tr>\n",
       "    <tr>\n",
       "      <th>6</th>\n",
       "      <td>G</td>\n",
       "      <td>59</td>\n",
       "      <td>147</td>\n",
       "      <td>206</td>\n",
       "      <td>0.286408</td>\n",
       "    </tr>\n",
       "    <tr>\n",
       "      <th>4</th>\n",
       "      <td>E</td>\n",
       "      <td>487</td>\n",
       "      <td>1444</td>\n",
       "      <td>1931</td>\n",
       "      <td>0.252201</td>\n",
       "    </tr>\n",
       "    <tr>\n",
       "      <th>3</th>\n",
       "      <td>D</td>\n",
       "      <td>735</td>\n",
       "      <td>2887</td>\n",
       "      <td>3622</td>\n",
       "      <td>0.202927</td>\n",
       "    </tr>\n",
       "    <tr>\n",
       "      <th>2</th>\n",
       "      <td>C</td>\n",
       "      <td>844</td>\n",
       "      <td>4601</td>\n",
       "      <td>5445</td>\n",
       "      <td>0.155005</td>\n",
       "    </tr>\n",
       "    <tr>\n",
       "      <th>1</th>\n",
       "      <td>B</td>\n",
       "      <td>860</td>\n",
       "      <td>7237</td>\n",
       "      <td>8097</td>\n",
       "      <td>0.106212</td>\n",
       "    </tr>\n",
       "    <tr>\n",
       "      <th>0</th>\n",
       "      <td>A</td>\n",
       "      <td>338</td>\n",
       "      <td>6243</td>\n",
       "      <td>6581</td>\n",
       "      <td>0.051360</td>\n",
       "    </tr>\n",
       "  </tbody>\n",
       "</table>\n",
       "</div>"
      ],
      "text/plain": [
       "loan_status grade  Charged Off  Fully Paid  Total  Chargedoff_Proportion\n",
       "5               F          225         481    706               0.318697\n",
       "6               G           59         147    206               0.286408\n",
       "4               E          487        1444   1931               0.252201\n",
       "3               D          735        2887   3622               0.202927\n",
       "2               C          844        4601   5445               0.155005\n",
       "1               B          860        7237   8097               0.106212\n",
       "0               A          338        6243   6581               0.051360"
      ]
     },
     "execution_count": 116,
     "metadata": {},
     "output_type": "execute_result"
    }
   ],
   "source": [
    "grade_vs_loan = loan_df.groupby(['grade', 'loan_status']).loan_status.count().unstack().fillna(0).reset_index()\n",
    "grade_vs_loan['Total'] = grade_vs_loan['Charged Off'] + grade_vs_loan['Fully Paid'] \n",
    "grade_vs_loan['Chargedoff_Proportion'] = grade_vs_loan['Charged Off'] / grade_vs_loan['Total']\n",
    "grade_vs_loan.sort_values('Chargedoff_Proportion', ascending=False)"
   ]
  },
  {
   "cell_type": "markdown",
   "id": "5fba64a9",
   "metadata": {},
   "source": [
    "<b>Observations</b>\n",
    "<li>Grade A has very less loan defaults among all other grades</li>\n",
    "<li>Grade F has the highest loan defaults among all other grades</li>\n",
    "<li>It is clearly visible that the borrowers with top grade, brings less risk to the credit.</li>\n",
    "\n",
    "Let's draw a chart for this data."
   ]
  },
  {
   "cell_type": "code",
   "execution_count": 120,
   "id": "1ab9b3d7",
   "metadata": {},
   "outputs": [
    {
     "data": {
      "image/png": "[encoded data removed]",
      "text/plain": [
       "<Figure size 864x576 with 1 Axes>"
      ]
     },
     "metadata": {},
     "output_type": "display_data"
    }
   ],
   "source": [
    "fig, ax1 = plt.subplots(figsize=(12, 8),facecolor='b')\n",
    "ax1.set_title('Purpose vs Chargedoff Proportion',fontsize=15,color = 'w')\n",
    "ax1=sns.barplot(x='grade', y='Chargedoff_Proportion', data=grade_vs_loan)\n",
    "ax1.set_ylabel('Chargedoff Proportion',fontsize=14,color = 'w')\n",
    "ax1.set_xlabel('Grade',fontsize=14,color='w') \n",
    "plt.show()"
   ]
  },
  {
   "cell_type": "markdown",
   "id": "0e958502",
   "metadata": {},
   "source": [
    "<b>Interest Rate Category vs Loan Status</b>"
   ]
  },
  {
   "cell_type": "code",
   "execution_count": 122,
   "id": "2b1f5395",
   "metadata": {},
   "outputs": [
    {
     "data": {
      "text/html": [
       "<div>\n",
       "<style scoped>\n",
       "    .dataframe tbody tr th:only-of-type {\n",
       "        vertical-align: middle;\n",
       "    }\n",
       "\n",
       "    .dataframe tbody tr th {\n",
       "        vertical-align: top;\n",
       "    }\n",
       "\n",
       "    .dataframe thead th {\n",
       "        text-align: right;\n",
       "    }\n",
       "</style>\n",
       "<table border=\"1\" class=\"dataframe\">\n",
       "  <thead>\n",
       "    <tr style=\"text-align: right;\">\n",
       "      <th>loan_status</th>\n",
       "      <th>int_rate_cat</th>\n",
       "      <th>Charged Off</th>\n",
       "      <th>Fully Paid</th>\n",
       "      <th>Total</th>\n",
       "      <th>Chargedoff_Proportion</th>\n",
       "    </tr>\n",
       "  </thead>\n",
       "  <tbody>\n",
       "    <tr>\n",
       "      <th>0</th>\n",
       "      <td>high</td>\n",
       "      <td>1392</td>\n",
       "      <td>4349</td>\n",
       "      <td>5741</td>\n",
       "      <td>0.242466</td>\n",
       "    </tr>\n",
       "    <tr>\n",
       "      <th>2</th>\n",
       "      <td>medium</td>\n",
       "      <td>1700</td>\n",
       "      <td>11011</td>\n",
       "      <td>12711</td>\n",
       "      <td>0.133742</td>\n",
       "    </tr>\n",
       "    <tr>\n",
       "      <th>1</th>\n",
       "      <td>low</td>\n",
       "      <td>456</td>\n",
       "      <td>7680</td>\n",
       "      <td>8136</td>\n",
       "      <td>0.056047</td>\n",
       "    </tr>\n",
       "  </tbody>\n",
       "</table>\n",
       "</div>"
      ],
      "text/plain": [
       "loan_status int_rate_cat  Charged Off  Fully Paid  Total  \\\n",
       "0                   high         1392        4349   5741   \n",
       "2                 medium         1700       11011  12711   \n",
       "1                    low          456        7680   8136   \n",
       "\n",
       "loan_status  Chargedoff_Proportion  \n",
       "0                         0.242466  \n",
       "2                         0.133742  \n",
       "1                         0.056047  "
      ]
     },
     "execution_count": 122,
     "metadata": {},
     "output_type": "execute_result"
    }
   ],
   "source": [
    "interest_vs_loan = loan_df.groupby(['int_rate_cat', 'loan_status']).loan_status.count().unstack().fillna(0).reset_index()\n",
    "interest_vs_loan['Total'] = interest_vs_loan['Charged Off'] + interest_vs_loan['Fully Paid'] \n",
    "interest_vs_loan['Chargedoff_Proportion'] = interest_vs_loan['Charged Off'] / interest_vs_loan['Total']\n",
    "interest_vs_loan.sort_values('Chargedoff_Proportion', ascending=False)"
   ]
  },
  {
   "cell_type": "code",
   "execution_count": 123,
   "id": "72feffe2",
   "metadata": {},
   "outputs": [
    {
     "data": {
      "image/png": "[encoded data removed]",
      "text/plain": [
       "<Figure size 864x576 with 1 Axes>"
      ]
     },
     "metadata": {},
     "output_type": "display_data"
    }
   ],
   "source": [
    "fig, ax1 = plt.subplots(figsize=(12, 8),facecolor='b')\n",
    "ax1.set_title('Purpose vs Chargedoff Proportion',fontsize=15,color = 'w')\n",
    "ax1=sns.barplot(x='int_rate_cat', y='Chargedoff_Proportion', data=interest_vs_loan)\n",
    "ax1.set_ylabel('Chargedoff Proportion',fontsize=14,color = 'w')\n",
    "ax1.set_xlabel('Interest Rate Category',fontsize=14,color='w') \n",
    "plt.show()"
   ]
  },
  {
   "cell_type": "markdown",
   "id": "dc12d784",
   "metadata": {},
   "source": [
    "<b>Observations:</b>\n",
    "<p>Loan default proportion is increasing with higher intrest rates.</p>"
   ]
  },
  {
   "cell_type": "code",
   "execution_count": null,
   "id": "50f37957",
   "metadata": {},
   "outputs": [],
   "source": []
  }
 ],
 "metadata": {
  "kernelspec": {
   "display_name": "Python 3",
   "language": "python",
   "name": "python3"
  },
  "language_info": {
   "codemirror_mode": {
    "name": "ipython",
    "version": 3
   },
   "file_extension": ".py",
   "mimetype": "text/x-python",
   "name": "python",
   "nbconvert_exporter": "python",
   "pygments_lexer": "ipython3",
   "version": "3.8.8"
  }
 },
 "nbformat": 4,
 "nbformat_minor": 5
}
